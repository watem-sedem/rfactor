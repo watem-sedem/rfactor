{
 "cells": [
  {
   "cell_type": "code",
   "execution_count": null,
   "metadata": {},
   "outputs": [],
   "source": [
    "%load_ext autoreload\n",
    "%autoreload 2"
   ]
  },
  {
   "cell_type": "markdown",
   "metadata": {},
   "source": [
    "# Application of rfactor on data det Flanders"
   ]
  },
  {
   "cell_type": "markdown",
   "metadata": {},
   "source": [
    "## Aim\n",
    "\n",
    "Implementation to compute and analyse the R-factor of the RUSLE-equation. The\n",
    "R-factor is a measure for the total erosivity of a number of rainfall events\n",
    "within a defined timeframe (year, month, number of days). The factor is\n",
    "computed by calculating the yearly sum of -for every rainfall event- the sum\n",
    "of the depth of rainfall (mm) and the kinetic energy, and taking the mean\n",
    "over all years.\n",
    "\n",
    "---\n",
    "__NOTE__\n",
    "\n",
    "This notebook does not include the erosivity computation based on the Royal Meteorological Institute of Belgium (RMI) rainfall data, as the data is not available as open data. One can contact RMI to obtain the rainfall input data. Alternatively, the results of the computation of the erosivity values based on the RMI data are provided in this notebook as well as other rainfall input data, so one can proceed with the analysis.\n",
    "\n",
    "---"
   ]
  },
  {
   "cell_type": "markdown",
   "metadata": {},
   "source": [
    "## Package imports"
   ]
  },
  {
   "cell_type": "code",
   "execution_count": null,
   "metadata": {},
   "outputs": [],
   "source": [
    "from pathlib import Path\n",
    "\n",
    "import numpy as np\n",
    "import pandas as pd\n",
    "import matplotlib.pyplot as plt"
   ]
  },
  {
   "cell_type": "markdown",
   "metadata": {},
   "source": [
    "Load the `rfactor` package functionalities"
   ]
  },
  {
   "cell_type": "code",
   "execution_count": null,
   "metadata": {},
   "outputs": [],
   "source": [
    "from rfactor import compute_erosivity, maximum_intensity, maximum_intensity_matlab_clone\n",
    "from rfactor.process import load_rain_folder, compute_rainfall_statistics, get_rfactor_station_year"
   ]
  },
  {
   "cell_type": "markdown",
   "metadata": {},
   "source": [
    "## Input data and compute erosivity\n",
    "\n",
    "__Set folders__\n",
    "\n",
    "The main function `compute_erosivity` requires a [pandas DataFrame](https://pandas.pydata.org/docs/index.html) containing __non-zero__ rainfall data with the following columns:\n",
    "\n",
    "- datetime (pd.Timestamp): Time stamp\n",
    "- rain_mm (float): Rain in mm\n",
    "- station (str): Measurement station identifier\n",
    "\n",
    "However, the legacy format of the input files used in the original Matlab implementation is still supported as well. For this format, te input files are defined by text files (extension: `txt`) that hold __non-zero rainfall__ timeseries. The data are split per station and per year with a specific data file tag `STATION_YYYY`:  \n",
    "\n",
    "```\n",
    "KMI_6414_2004.txt  \n",
    "KMI_6414_2005.txt  \n",
    "...  \n",
    "KMI_6434_2003.txt  \n",
    "KMI_6434_2004.txt  \n",
    "...  \n",
    "```\n",
    "\n",
    "__Note__: the files in `tests/data/test_rainfalldata` are an incomplete data set for Belgium (RMI rainfall data are not included), an alternative is provided in the section 'Analysis'."
   ]
  },
  {
   "cell_type": "code",
   "execution_count": null,
   "metadata": {},
   "outputs": [],
   "source": [
    "fmap_rainfall =  Path(r\"../../tests/data/test_rainfalldata\")"
   ]
  },
  {
   "cell_type": "markdown",
   "metadata": {},
   "source": [
    "Use the `load_rain_folder` function to read all rain data in a folder:"
   ]
  },
  {
   "cell_type": "code",
   "execution_count": null,
   "metadata": {},
   "outputs": [
    {
     "name": "stderr",
     "output_type": "stream",
     "text": [
      "100%|██████████████████████████████████████████████████████████████████████████████████| 10/10 [00:00<00:00, 66.28it/s]\n"
     ]
    }
   ],
   "source": [
    "all_rainfall = load_rain_folder(fmap_rainfall)"
   ]
  },
  {
   "cell_type": "markdown",
   "metadata": {},
   "source": [
    "**Compute rainfall statistics** (and add station metadata)"
   ]
  },
  {
   "cell_type": "code",
   "execution_count": null,
   "metadata": {},
   "outputs": [
    {
     "data": {
      "text/html": [
       "<div>\n",
       "<style scoped>\n",
       "    .dataframe tbody tr th:only-of-type {\n",
       "        vertical-align: middle;\n",
       "    }\n",
       "\n",
       "    .dataframe tbody tr th {\n",
       "        vertical-align: top;\n",
       "    }\n",
       "\n",
       "    .dataframe thead th {\n",
       "        text-align: right;\n",
       "    }\n",
       "</style>\n",
       "<table border=\"1\" class=\"dataframe\">\n",
       "  <thead>\n",
       "    <tr style=\"text-align: right;\">\n",
       "      <th></th>\n",
       "      <th>year</th>\n",
       "      <th>station</th>\n",
       "      <th>x</th>\n",
       "      <th>y</th>\n",
       "      <th>records</th>\n",
       "      <th>min</th>\n",
       "      <th>median</th>\n",
       "      <th>max</th>\n",
       "    </tr>\n",
       "  </thead>\n",
       "  <tbody>\n",
       "    <tr>\n",
       "      <th>0</th>\n",
       "      <td>[2018]</td>\n",
       "      <td>P01_001</td>\n",
       "      <td>NaN</td>\n",
       "      <td>NaN</td>\n",
       "      <td>2718</td>\n",
       "      <td>0.01</td>\n",
       "      <td>0.090</td>\n",
       "      <td>5.05</td>\n",
       "    </tr>\n",
       "    <tr>\n",
       "      <th>1</th>\n",
       "      <td>[2020]</td>\n",
       "      <td>P01_003</td>\n",
       "      <td>51907.0</td>\n",
       "      <td>191193.0</td>\n",
       "      <td>3481</td>\n",
       "      <td>0.01</td>\n",
       "      <td>0.100</td>\n",
       "      <td>4.56</td>\n",
       "    </tr>\n",
       "    <tr>\n",
       "      <th>2</th>\n",
       "      <td>[2012, 2016]</td>\n",
       "      <td>P01_010</td>\n",
       "      <td>45836.0</td>\n",
       "      <td>171260.0</td>\n",
       "      <td>7549</td>\n",
       "      <td>0.01</td>\n",
       "      <td>0.100</td>\n",
       "      <td>17.71</td>\n",
       "    </tr>\n",
       "    <tr>\n",
       "      <th>3</th>\n",
       "      <td>[2018]</td>\n",
       "      <td>P05_038</td>\n",
       "      <td>59622.0</td>\n",
       "      <td>167497.0</td>\n",
       "      <td>2866</td>\n",
       "      <td>0.01</td>\n",
       "      <td>0.105</td>\n",
       "      <td>9.03</td>\n",
       "    </tr>\n",
       "    <tr>\n",
       "      <th>4</th>\n",
       "      <td>[2017]</td>\n",
       "      <td>P05_039</td>\n",
       "      <td>65867.0</td>\n",
       "      <td>181510.0</td>\n",
       "      <td>3536</td>\n",
       "      <td>0.01</td>\n",
       "      <td>0.100</td>\n",
       "      <td>6.96</td>\n",
       "    </tr>\n",
       "  </tbody>\n",
       "</table>\n",
       "</div>"
      ],
      "text/plain": [
       "           year  station        x         y  records   min  median    max\n",
       "0        [2018]  P01_001      NaN       NaN     2718  0.01   0.090   5.05\n",
       "1        [2020]  P01_003  51907.0  191193.0     3481  0.01   0.100   4.56\n",
       "2  [2012, 2016]  P01_010  45836.0  171260.0     7549  0.01   0.100  17.71\n",
       "3        [2018]  P05_038  59622.0  167497.0     2866  0.01   0.105   9.03\n",
       "4        [2017]  P05_039  65867.0  181510.0     3536  0.01   0.100   6.96"
      ]
     },
     "execution_count": null,
     "metadata": {},
     "output_type": "execute_result"
    }
   ],
   "source": [
    "stations = pd.read_csv(\"data/stations.csv\")\n",
    "\n",
    "rain_stats = compute_rainfall_statistics(all_rainfall, stations)\n",
    "rain_stats.head()"
   ]
  },
  {
   "cell_type": "markdown",
   "metadata": {},
   "source": [
    "**Select stations to compute erosivity for**"
   ]
  },
  {
   "cell_type": "code",
   "execution_count": null,
   "metadata": {},
   "outputs": [],
   "source": [
    "consider_stations = pd.read_csv(\"data/files.csv\")\n",
    "\n",
    "sel_rainfall = all_rainfall.loc[all_rainfall[\"tag\"].isin(consider_stations[\"datafile\"])]"
   ]
  },
  {
   "cell_type": "code",
   "execution_count": null,
   "metadata": {},
   "outputs": [
    {
     "data": {
      "text/html": [
       "<div>\n",
       "<style scoped>\n",
       "    .dataframe tbody tr th:only-of-type {\n",
       "        vertical-align: middle;\n",
       "    }\n",
       "\n",
       "    .dataframe tbody tr th {\n",
       "        vertical-align: top;\n",
       "    }\n",
       "\n",
       "    .dataframe thead th {\n",
       "        text-align: right;\n",
       "    }\n",
       "</style>\n",
       "<table border=\"1\" class=\"dataframe\">\n",
       "  <thead>\n",
       "    <tr style=\"text-align: right;\">\n",
       "      <th></th>\n",
       "      <th>minutes_since</th>\n",
       "      <th>rain_mm</th>\n",
       "      <th>datetime</th>\n",
       "      <th>station</th>\n",
       "      <th>year</th>\n",
       "      <th>tag</th>\n",
       "    </tr>\n",
       "  </thead>\n",
       "  <tbody>\n",
       "    <tr>\n",
       "      <th>0</th>\n",
       "      <td>130</td>\n",
       "      <td>0.27</td>\n",
       "      <td>2018-01-01 02:10:00</td>\n",
       "      <td>P01_001</td>\n",
       "      <td>2018</td>\n",
       "      <td>P01_001_2018</td>\n",
       "    </tr>\n",
       "    <tr>\n",
       "      <th>1</th>\n",
       "      <td>140</td>\n",
       "      <td>0.02</td>\n",
       "      <td>2018-01-01 02:20:00</td>\n",
       "      <td>P01_001</td>\n",
       "      <td>2018</td>\n",
       "      <td>P01_001_2018</td>\n",
       "    </tr>\n",
       "    <tr>\n",
       "      <th>2</th>\n",
       "      <td>190</td>\n",
       "      <td>0.48</td>\n",
       "      <td>2018-01-01 03:10:00</td>\n",
       "      <td>P01_001</td>\n",
       "      <td>2018</td>\n",
       "      <td>P01_001_2018</td>\n",
       "    </tr>\n",
       "    <tr>\n",
       "      <th>3</th>\n",
       "      <td>460</td>\n",
       "      <td>0.22</td>\n",
       "      <td>2018-01-01 07:40:00</td>\n",
       "      <td>P01_001</td>\n",
       "      <td>2018</td>\n",
       "      <td>P01_001_2018</td>\n",
       "    </tr>\n",
       "    <tr>\n",
       "      <th>4</th>\n",
       "      <td>470</td>\n",
       "      <td>0.09</td>\n",
       "      <td>2018-01-01 07:50:00</td>\n",
       "      <td>P01_001</td>\n",
       "      <td>2018</td>\n",
       "      <td>P01_001_2018</td>\n",
       "    </tr>\n",
       "  </tbody>\n",
       "</table>\n",
       "</div>"
      ],
      "text/plain": [
       "   minutes_since  rain_mm            datetime  station  year           tag\n",
       "0            130     0.27 2018-01-01 02:10:00  P01_001  2018  P01_001_2018\n",
       "1            140     0.02 2018-01-01 02:20:00  P01_001  2018  P01_001_2018\n",
       "2            190     0.48 2018-01-01 03:10:00  P01_001  2018  P01_001_2018\n",
       "3            460     0.22 2018-01-01 07:40:00  P01_001  2018  P01_001_2018\n",
       "4            470     0.09 2018-01-01 07:50:00  P01_001  2018  P01_001_2018"
      ]
     },
     "execution_count": null,
     "metadata": {},
     "output_type": "execute_result"
    }
   ],
   "source": [
    "sel_rainfall.head()"
   ]
  },
  {
   "cell_type": "markdown",
   "metadata": {},
   "source": [
    "**Run Model**  "
   ]
  },
  {
   "cell_type": "markdown",
   "metadata": {},
   "source": [
    "By default, the erosivity is calculated with the `maximum_intensity` method implemented in Python, which follows a slightly different approach to the original Matlab implementation. However, one can opt to use the `matlab_clone` method as well, which is a Python implementation mimicking the original Matlab one:"
   ]
  },
  {
   "cell_type": "code",
   "execution_count": null,
   "metadata": {},
   "outputs": [
    {
     "data": {
      "text/html": [
       "<div>\n",
       "<style scoped>\n",
       "    .dataframe tbody tr th:only-of-type {\n",
       "        vertical-align: middle;\n",
       "    }\n",
       "\n",
       "    .dataframe tbody tr th {\n",
       "        vertical-align: top;\n",
       "    }\n",
       "\n",
       "    .dataframe thead th {\n",
       "        text-align: right;\n",
       "    }\n",
       "</style>\n",
       "<table border=\"1\" class=\"dataframe\">\n",
       "  <thead>\n",
       "    <tr style=\"text-align: right;\">\n",
       "      <th></th>\n",
       "      <th>datetime</th>\n",
       "      <th>event_rain_cum</th>\n",
       "      <th>max_30min_intensity</th>\n",
       "      <th>event_energy</th>\n",
       "      <th>erosivity</th>\n",
       "      <th>all_event_rain_cum</th>\n",
       "      <th>erosivity_cum</th>\n",
       "      <th>station</th>\n",
       "      <th>year</th>\n",
       "      <th>tag</th>\n",
       "    </tr>\n",
       "    <tr>\n",
       "      <th>datetime</th>\n",
       "      <th></th>\n",
       "      <th></th>\n",
       "      <th></th>\n",
       "      <th></th>\n",
       "      <th></th>\n",
       "      <th></th>\n",
       "      <th></th>\n",
       "      <th></th>\n",
       "      <th></th>\n",
       "      <th></th>\n",
       "    </tr>\n",
       "  </thead>\n",
       "  <tbody>\n",
       "    <tr>\n",
       "      <th>2018-01-01 14:30:00</th>\n",
       "      <td>2018-01-01 14:30:00</td>\n",
       "      <td>11.29</td>\n",
       "      <td>3.28</td>\n",
       "      <td>1.530117</td>\n",
       "      <td>5.018784</td>\n",
       "      <td>1.08</td>\n",
       "      <td>5.018784</td>\n",
       "      <td>P01_001</td>\n",
       "      <td>2018</td>\n",
       "      <td>P01_001_2018</td>\n",
       "    </tr>\n",
       "    <tr>\n",
       "      <th>2018-01-02 16:30:00</th>\n",
       "      <td>2018-01-02 16:30:00</td>\n",
       "      <td>7.76</td>\n",
       "      <td>3.00</td>\n",
       "      <td>0.996561</td>\n",
       "      <td>2.989682</td>\n",
       "      <td>12.37</td>\n",
       "      <td>8.008465</td>\n",
       "      <td>P01_001</td>\n",
       "      <td>2018</td>\n",
       "      <td>P01_001_2018</td>\n",
       "    </tr>\n",
       "    <tr>\n",
       "      <th>2018-01-04 09:10:00</th>\n",
       "      <td>2018-01-04 09:10:00</td>\n",
       "      <td>2.34</td>\n",
       "      <td>1.34</td>\n",
       "      <td>0.242004</td>\n",
       "      <td>0.324285</td>\n",
       "      <td>20.13</td>\n",
       "      <td>8.332750</td>\n",
       "      <td>P01_001</td>\n",
       "      <td>2018</td>\n",
       "      <td>P01_001_2018</td>\n",
       "    </tr>\n",
       "    <tr>\n",
       "      <th>2018-01-05 02:20:00</th>\n",
       "      <td>2018-01-05 02:20:00</td>\n",
       "      <td>1.56</td>\n",
       "      <td>1.48</td>\n",
       "      <td>0.190453</td>\n",
       "      <td>0.281871</td>\n",
       "      <td>22.47</td>\n",
       "      <td>8.614621</td>\n",
       "      <td>P01_001</td>\n",
       "      <td>2018</td>\n",
       "      <td>P01_001_2018</td>\n",
       "    </tr>\n",
       "    <tr>\n",
       "      <th>2018-01-05 16:00:00</th>\n",
       "      <td>2018-01-05 16:00:00</td>\n",
       "      <td>3.33</td>\n",
       "      <td>6.16</td>\n",
       "      <td>0.681102</td>\n",
       "      <td>4.195587</td>\n",
       "      <td>24.03</td>\n",
       "      <td>12.810208</td>\n",
       "      <td>P01_001</td>\n",
       "      <td>2018</td>\n",
       "      <td>P01_001_2018</td>\n",
       "    </tr>\n",
       "  </tbody>\n",
       "</table>\n",
       "</div>"
      ],
      "text/plain": [
       "                               datetime  event_rain_cum  max_30min_intensity  \\\n",
       "datetime                                                                       \n",
       "2018-01-01 14:30:00 2018-01-01 14:30:00           11.29                 3.28   \n",
       "2018-01-02 16:30:00 2018-01-02 16:30:00            7.76                 3.00   \n",
       "2018-01-04 09:10:00 2018-01-04 09:10:00            2.34                 1.34   \n",
       "2018-01-05 02:20:00 2018-01-05 02:20:00            1.56                 1.48   \n",
       "2018-01-05 16:00:00 2018-01-05 16:00:00            3.33                 6.16   \n",
       "\n",
       "                     event_energy  erosivity  all_event_rain_cum  \\\n",
       "datetime                                                           \n",
       "2018-01-01 14:30:00      1.530117   5.018784                1.08   \n",
       "2018-01-02 16:30:00      0.996561   2.989682               12.37   \n",
       "2018-01-04 09:10:00      0.242004   0.324285               20.13   \n",
       "2018-01-05 02:20:00      0.190453   0.281871               22.47   \n",
       "2018-01-05 16:00:00      0.681102   4.195587               24.03   \n",
       "\n",
       "                     erosivity_cum  station  year           tag  \n",
       "datetime                                                         \n",
       "2018-01-01 14:30:00       5.018784  P01_001  2018  P01_001_2018  \n",
       "2018-01-02 16:30:00       8.008465  P01_001  2018  P01_001_2018  \n",
       "2018-01-04 09:10:00       8.332750  P01_001  2018  P01_001_2018  \n",
       "2018-01-05 02:20:00       8.614621  P01_001  2018  P01_001_2018  \n",
       "2018-01-05 16:00:00      12.810208  P01_001  2018  P01_001_2018  "
      ]
     },
     "execution_count": null,
     "metadata": {},
     "output_type": "execute_result"
    }
   ],
   "source": [
    "erosivity = compute_erosivity(sel_rainfall, maximum_intensity_matlab_clone)\n",
    "erosivity.head()"
   ]
  },
  {
   "cell_type": "markdown",
   "metadata": {},
   "source": [
    "## Analysis\n",
    "\n",
    "If one does not have acces to the RMI data, the output erosivity from the computation with the full data set is provided in this repository as an alternative:"
   ]
  },
  {
   "cell_type": "code",
   "execution_count": null,
   "metadata": {},
   "outputs": [
    {
     "data": {
      "text/html": [
       "<div>\n",
       "<style scoped>\n",
       "    .dataframe tbody tr th:only-of-type {\n",
       "        vertical-align: middle;\n",
       "    }\n",
       "\n",
       "    .dataframe tbody tr th {\n",
       "        vertical-align: top;\n",
       "    }\n",
       "\n",
       "    .dataframe thead th {\n",
       "        text-align: right;\n",
       "    }\n",
       "</style>\n",
       "<table border=\"1\" class=\"dataframe\">\n",
       "  <thead>\n",
       "    <tr style=\"text-align: right;\">\n",
       "      <th></th>\n",
       "      <th>datetime.1</th>\n",
       "      <th>event_rain_cum</th>\n",
       "      <th>max_30min_intensity</th>\n",
       "      <th>event_energy</th>\n",
       "      <th>erosivity</th>\n",
       "      <th>all_event_rain_cum</th>\n",
       "      <th>erosivity_cum</th>\n",
       "      <th>station</th>\n",
       "      <th>year</th>\n",
       "      <th>tag</th>\n",
       "    </tr>\n",
       "    <tr>\n",
       "      <th>datetime</th>\n",
       "      <th></th>\n",
       "      <th></th>\n",
       "      <th></th>\n",
       "      <th></th>\n",
       "      <th></th>\n",
       "      <th></th>\n",
       "      <th></th>\n",
       "      <th></th>\n",
       "      <th></th>\n",
       "      <th></th>\n",
       "    </tr>\n",
       "  </thead>\n",
       "  <tbody>\n",
       "    <tr>\n",
       "      <th>2004-01-07 12:30:00</th>\n",
       "      <td>2004-01-07 12:30:00</td>\n",
       "      <td>7.4</td>\n",
       "      <td>10.6</td>\n",
       "      <td>1.642414</td>\n",
       "      <td>17.409589</td>\n",
       "      <td>0.0</td>\n",
       "      <td>17.409589</td>\n",
       "      <td>KMI_6414</td>\n",
       "      <td>2004</td>\n",
       "      <td>KMI_6414_2004</td>\n",
       "    </tr>\n",
       "    <tr>\n",
       "      <th>2004-01-08 11:30:00</th>\n",
       "      <td>2004-01-08 11:30:00</td>\n",
       "      <td>5.9</td>\n",
       "      <td>4.8</td>\n",
       "      <td>0.977963</td>\n",
       "      <td>4.694222</td>\n",
       "      <td>7.4</td>\n",
       "      <td>22.103810</td>\n",
       "      <td>KMI_6414</td>\n",
       "      <td>2004</td>\n",
       "      <td>KMI_6414_2004</td>\n",
       "    </tr>\n",
       "    <tr>\n",
       "      <th>2004-01-11 05:40:00</th>\n",
       "      <td>2004-01-11 05:40:00</td>\n",
       "      <td>8.1</td>\n",
       "      <td>4.8</td>\n",
       "      <td>1.242868</td>\n",
       "      <td>5.965767</td>\n",
       "      <td>14.5</td>\n",
       "      <td>28.069577</td>\n",
       "      <td>KMI_6414</td>\n",
       "      <td>2004</td>\n",
       "      <td>KMI_6414_2004</td>\n",
       "    </tr>\n",
       "    <tr>\n",
       "      <th>2004-01-11 19:30:00</th>\n",
       "      <td>2004-01-11 19:30:00</td>\n",
       "      <td>7.1</td>\n",
       "      <td>9.6</td>\n",
       "      <td>1.611688</td>\n",
       "      <td>15.472204</td>\n",
       "      <td>22.6</td>\n",
       "      <td>43.541781</td>\n",
       "      <td>KMI_6414</td>\n",
       "      <td>2004</td>\n",
       "      <td>KMI_6414_2004</td>\n",
       "    </tr>\n",
       "    <tr>\n",
       "      <th>2004-01-12 08:40:00</th>\n",
       "      <td>2004-01-12 08:40:00</td>\n",
       "      <td>21.4</td>\n",
       "      <td>9.6</td>\n",
       "      <td>3.684080</td>\n",
       "      <td>35.367172</td>\n",
       "      <td>29.7</td>\n",
       "      <td>78.908954</td>\n",
       "      <td>KMI_6414</td>\n",
       "      <td>2004</td>\n",
       "      <td>KMI_6414_2004</td>\n",
       "    </tr>\n",
       "  </tbody>\n",
       "</table>\n",
       "</div>"
      ],
      "text/plain": [
       "                             datetime.1  event_rain_cum  max_30min_intensity  \\\n",
       "datetime                                                                       \n",
       "2004-01-07 12:30:00 2004-01-07 12:30:00             7.4                 10.6   \n",
       "2004-01-08 11:30:00 2004-01-08 11:30:00             5.9                  4.8   \n",
       "2004-01-11 05:40:00 2004-01-11 05:40:00             8.1                  4.8   \n",
       "2004-01-11 19:30:00 2004-01-11 19:30:00             7.1                  9.6   \n",
       "2004-01-12 08:40:00 2004-01-12 08:40:00            21.4                  9.6   \n",
       "\n",
       "                     event_energy  erosivity  all_event_rain_cum  \\\n",
       "datetime                                                           \n",
       "2004-01-07 12:30:00      1.642414  17.409589                 0.0   \n",
       "2004-01-08 11:30:00      0.977963   4.694222                 7.4   \n",
       "2004-01-11 05:40:00      1.242868   5.965767                14.5   \n",
       "2004-01-11 19:30:00      1.611688  15.472204                22.6   \n",
       "2004-01-12 08:40:00      3.684080  35.367172                29.7   \n",
       "\n",
       "                     erosivity_cum   station  year            tag  \n",
       "datetime                                                           \n",
       "2004-01-07 12:30:00      17.409589  KMI_6414  2004  KMI_6414_2004  \n",
       "2004-01-08 11:30:00      22.103810  KMI_6414  2004  KMI_6414_2004  \n",
       "2004-01-11 05:40:00      28.069577  KMI_6414  2004  KMI_6414_2004  \n",
       "2004-01-11 19:30:00      43.541781  KMI_6414  2004  KMI_6414_2004  \n",
       "2004-01-12 08:40:00      78.908954  KMI_6414  2004  KMI_6414_2004  "
      ]
     },
     "execution_count": null,
     "metadata": {},
     "output_type": "execute_result"
    }
   ],
   "source": [
    "erosivity = pd.read_csv(\"data/erosivity_belgium.csv\", parse_dates=[0, 1], index_col=0)\n",
    "erosivity.head()"
   ]
  },
  {
   "cell_type": "markdown",
   "metadata": {},
   "source": [
    "**Ukkel**  \n",
    "\n",
    "Compute R-factor for specific periods for Ukkel (KMI_6447 and KMI_F3)."
   ]
  },
  {
   "cell_type": "code",
   "execution_count": null,
   "metadata": {},
   "outputs": [
    {
     "name": "stdout",
     "output_type": "stream",
     "text": [
      "R-factor for period from 1898 till 2002 is: 1013.45\n",
      "R-factor for period from 2003 till 2020 is: 1336.40\n",
      "R-factor for period from 1898 till 2020 is: 1060.71\n",
      "R-factor for period from 1996 till 2020 is: 1296.98\n",
      "R-factor for period from 1991 till 2020 is: 1288.96\n",
      "R-factor for period from 1990 till 2000 is: 1125.57\n",
      "R-factor for period from 2000 till 2020 is: 1331.83\n"
     ]
    }
   ],
   "source": [
    "timeseries = [range(1898, 2003, 1),\n",
    "              range(2003, 2021, 1),\n",
    "              range(1898, 2021, 1),\n",
    "              range(1996, 2021, 1),\n",
    "              range(1991, 2021, 1),\n",
    "              range(1990, 2001, 1),\n",
    "              range(2000, 2021, 1)]\n",
    "\n",
    "for period in timeseries:\n",
    "    rfactor = get_rfactor_station_year(erosivity,[\"KMI_6447\",\"KMI_FS3\"], period)\n",
    "    print(f\"R-factor for period from {period[0]} till {period[-1]} is: {rfactor['erosivity_cum'].mean():.2f}\")"
   ]
  },
  {
   "cell_type": "markdown",
   "metadata": {},
   "source": [
    "**Make figure for Ukkel**"
   ]
  },
  {
   "cell_type": "code",
   "execution_count": null,
   "metadata": {},
   "outputs": [],
   "source": [
    "rfactor_all= get_rfactor_station_year(erosivity, stations=[\"KMI_FS3\", \"KMI_6447\"]).sort_values(\"year\")"
   ]
  },
  {
   "cell_type": "code",
   "execution_count": null,
   "metadata": {},
   "outputs": [
    {
     "name": "stderr",
     "output_type": "stream",
     "text": [
      "C:\\Users\\SachaGobeyn\\AppData\\Local\\Temp\\ipykernel_7912\\1035895420.py:10: FutureWarning: The frame.append method is deprecated and will be removed from pandas in a future version. Use pandas.concat instead.\n",
      "  rfactor_fs3 = rfactor_fs3.append(rfactor_6447.iloc[0])\n"
     ]
    },
    {
     "data": {
      "text/plain": [
       "<matplotlib.legend.Legend at 0x18782a4d610>"
      ]
     },
     "execution_count": null,
     "metadata": {},
     "output_type": "execute_result"
    },
    {
     "data": {
      "image/png": "[encoded data removed]",
      "text/plain": [
       "<Figure size 864x540 with 1 Axes>"
      ]
     },
     "metadata": {
      "needs_background": "light"
     },
     "output_type": "display_data"
    }
   ],
   "source": [
    "fig, ax = plt.subplots(figsize=(12, 7.5))\n",
    "\n",
    "rfactor_fs3 = get_rfactor_station_year(erosivity, [\"KMI_FS3\"])\n",
    "rfactor_fs3 = rfactor_fs3[~(rfactor_fs3[\"erosivity_cum\"].isnull())].sort_values(\"year\")\n",
    "\n",
    "rfactor_6447 = get_rfactor_station_year(erosivity, [\"KMI_6447\"])\n",
    "rfactor_6447 = rfactor_6447[~(rfactor_6447[\"erosivity_cum\"].isnull())].sort_values(\"year\")\n",
    "\n",
    "# add first line of KMI6447 to end of KMI FS3 in order to make a continuous timeseries on the plot\n",
    "rfactor_fs3 = rfactor_fs3.append(rfactor_6447.iloc[0])\n",
    "\n",
    "ax.plot(rfactor_fs3[\"year\"], rfactor_fs3[\"erosivity_cum\"], label=\"KMI_FS3 (1898-2002)\")\n",
    "\n",
    "\n",
    "ax.plot(rfactor_6447[\"year\"], rfactor_6447[\"erosivity_cum\"], label=\"KMI_6447 (2003-2020)\")\n",
    "\n",
    "# rolling mean\n",
    "rfactor_all = get_rfactor_station_year(erosivity, stations=[\"KMI_FS3\", \"KMI_6447\"]).sort_values(\"year\")\n",
    "windows  = [10, 20, 30]\n",
    "for window in windows:\n",
    "    y = rfactor_all.rolling(window)[\"erosivity_cum\"].mean()\n",
    "    ax.plot(rfactor_all[\"year\"], y, ls=':', lw=3, \n",
    "            label=f\"Moving average ({window} year window)\")\n",
    "    \n",
    "\n",
    "ax.set_ylim([0,3500])\n",
    "ax.set_xlim([1890,2020])\n",
    "ax.tick_params(axis='both', which='major', labelsize=14)\n",
    "ax.set_xlabel(r'Year',fontsize=16)\n",
    "ax.set_ylabel(r'Yearly R-factor [MJ mm ha$^{-1}$ h$^{-1}$ year$^{-1}$]',fontsize=16)\n",
    "ax.legend(prop={'size':16})"
   ]
  },
  {
   "cell_type": "markdown",
   "metadata": {},
   "source": [
    "**All stations expect Ukkel**"
   ]
  },
  {
   "cell_type": "code",
   "execution_count": null,
   "metadata": {},
   "outputs": [
    {
     "name": "stdout",
     "output_type": "stream",
     "text": [
      "1257.379735478444\n"
     ]
    },
    {
     "data": {
      "text/plain": [
       "55"
      ]
     },
     "execution_count": null,
     "metadata": {},
     "output_type": "execute_result"
    }
   ],
   "source": [
    "stations_belgium_excl_ukkel = [station for station in stations[\"station\"] \n",
    "                               if station not in [\"KMI_6447\",\"KMI_FS3\", \"KMI1990_2002\", \"KMI2003_nu_v2\"]]\n",
    "years = range(1898, 2021, 1)\n",
    "years = [year for year in years if year in \n",
    "         erosivity[erosivity[\"station\"].isin(stations_belgium_excl_ukkel)][\"year\"].unique()]\n",
    "\n",
    "rfactor_non_ukkel = get_rfactor_station_year(erosivity, \n",
    "                                             stations=stations_belgium_excl_ukkel, \n",
    "                                             years=years)\n",
    "print(rfactor_non_ukkel[\"erosivity_cum\"].mean())\n",
    "len(rfactor_non_ukkel[\"station\"].unique())"
   ]
  },
  {
   "cell_type": "markdown",
   "metadata": {},
   "source": [
    "**All stations flanders**"
   ]
  },
  {
   "cell_type": "code",
   "execution_count": null,
   "metadata": {},
   "outputs": [
    {
     "name": "stdout",
     "output_type": "stream",
     "text": [
      "1237.3075804931602\n"
     ]
    },
    {
     "data": {
      "text/plain": [
       "50"
      ]
     },
     "execution_count": null,
     "metadata": {},
     "output_type": "execute_result"
    }
   ],
   "source": [
    "stations_flanders = [station for station in stations[\"station\"] \n",
    "                     if station not in  [\"KMI_6447\", \"KMI_FS3\", \"KMI_6455\", \"KMI_6459\",\n",
    "                                         \"KMI_6472\", \"KMI_6494\", \"KMI_6484\", \"KMI1990_2002\", \"KMI2003_nu_v2\"]]\n",
    "years = range(1898, 2021, 1)\n",
    "years = [year for year in years if year in \n",
    "         erosivity[erosivity[\"station\"].isin(stations_flanders)][\"year\"].unique()]\n",
    "\n",
    "rfactor_flanders = get_rfactor_station_year(erosivity,stations_flanders, years)\n",
    "print(rfactor_flanders[\"erosivity_cum\"].mean())\n",
    "len(rfactor_flanders[\"station\"].unique())"
   ]
  },
  {
   "cell_type": "markdown",
   "metadata": {},
   "source": [
    "**Plot the distribution of all R-values for Belgium, excluding the data from Ukkel**"
   ]
  },
  {
   "cell_type": "code",
   "execution_count": null,
   "metadata": {},
   "outputs": [
    {
     "data": {
      "text/plain": [
       "<matplotlib.legend.Legend at 0x1878187e070>"
      ]
     },
     "execution_count": null,
     "metadata": {},
     "output_type": "execute_result"
    },
    {
     "data": {
      "image/png": "[encoded data removed]",
      "text/plain": [
       "<Figure size 432x288 with 1 Axes>"
      ]
     },
     "metadata": {
      "needs_background": "light"
     },
     "output_type": "display_data"
    }
   ],
   "source": [
    "years = [year for year in range(1991, 2021) if year in \n",
    "         erosivity[erosivity[\"station\"].isin(stations_belgium_excl_ukkel)][\"year\"].unique()]\n",
    "\n",
    "rfactor_non_ukkel = get_rfactor_station_year(erosivity, stations_belgium_excl_ukkel, years)\n",
    "\n",
    "fig, ax = plt.subplots()\n",
    "ax.hist(rfactor_non_ukkel[\"erosivity_cum\"], bins=20, color=[0.8]*3,\n",
    "        label=r\"Jaarlijkse waarden voor alle 55 stations in België\")\n",
    "ax.plot([1239, 1239], [0, 120], color=[0.2]*3, ls=\":\", label=\"Ukkel (30-jaar referentie periode)\")\n",
    "ax.set_ylabel(r\"#\")\n",
    "ax.set_xlabel(r\"R-waarde [MJ mm ha$^{-1}$ h$^{-1}$ jaar$^{-1}$]\")\n",
    "ax.set_ylim([0,130])\n",
    "ax.legend()"
   ]
  },
  {
   "cell_type": "markdown",
   "metadata": {},
   "source": [
    "**All stations of the VMM (Flanders)**"
   ]
  },
  {
   "cell_type": "code",
   "execution_count": null,
   "metadata": {},
   "outputs": [
    {
     "name": "stdout",
     "output_type": "stream",
     "text": [
      "1237.077014785147\n"
     ]
    },
    {
     "data": {
      "text/plain": [
       "43"
      ]
     },
     "execution_count": null,
     "metadata": {},
     "output_type": "execute_result"
    }
   ],
   "source": [
    "stations_vmm = [station for station in stations[\"station\"] if \"KMI\" not in station]\n",
    "\n",
    "rfactor_vmm = get_rfactor_station_year(erosivity, stations_vmm)\n",
    "\n",
    "print(rfactor_vmm[\"erosivity_cum\"].mean())\n",
    "len(rfactor_vmm[\"station\"].unique())"
   ]
  },
  {
   "cell_type": "markdown",
   "metadata": {},
   "source": [
    "**Compute values per year over all stations**"
   ]
  },
  {
   "cell_type": "code",
   "execution_count": null,
   "metadata": {},
   "outputs": [
    {
     "data": {
      "text/html": [
       "<div>\n",
       "<style scoped>\n",
       "    .dataframe tbody tr th:only-of-type {\n",
       "        vertical-align: middle;\n",
       "    }\n",
       "\n",
       "    .dataframe tbody tr th {\n",
       "        vertical-align: top;\n",
       "    }\n",
       "\n",
       "    .dataframe thead tr th {\n",
       "        text-align: left;\n",
       "    }\n",
       "</style>\n",
       "<table border=\"1\" class=\"dataframe\">\n",
       "  <thead>\n",
       "    <tr>\n",
       "      <th></th>\n",
       "      <th>station</th>\n",
       "      <th colspan=\"2\" halign=\"left\">erosivity_cum</th>\n",
       "      <th>year</th>\n",
       "    </tr>\n",
       "    <tr>\n",
       "      <th></th>\n",
       "      <th></th>\n",
       "      <th>mean</th>\n",
       "      <th>std</th>\n",
       "      <th>count</th>\n",
       "    </tr>\n",
       "  </thead>\n",
       "  <tbody>\n",
       "    <tr>\n",
       "      <th>0</th>\n",
       "      <td>KMI_FS3</td>\n",
       "      <td>1013.447980</td>\n",
       "      <td>372.030461</td>\n",
       "      <td>105</td>\n",
       "    </tr>\n",
       "    <tr>\n",
       "      <th>1</th>\n",
       "      <td>KMI_6459</td>\n",
       "      <td>1342.419073</td>\n",
       "      <td>585.411025</td>\n",
       "      <td>20</td>\n",
       "    </tr>\n",
       "    <tr>\n",
       "      <th>2</th>\n",
       "      <td>KMI_6455</td>\n",
       "      <td>1203.791757</td>\n",
       "      <td>578.286308</td>\n",
       "      <td>20</td>\n",
       "    </tr>\n",
       "    <tr>\n",
       "      <th>3</th>\n",
       "      <td>KMI_6434</td>\n",
       "      <td>1395.650915</td>\n",
       "      <td>505.788697</td>\n",
       "      <td>18</td>\n",
       "    </tr>\n",
       "    <tr>\n",
       "      <th>4</th>\n",
       "      <td>KMI_6472</td>\n",
       "      <td>1283.746950</td>\n",
       "      <td>664.442273</td>\n",
       "      <td>18</td>\n",
       "    </tr>\n",
       "    <tr>\n",
       "      <th>5</th>\n",
       "      <td>KMI_6447</td>\n",
       "      <td>1336.397628</td>\n",
       "      <td>717.022599</td>\n",
       "      <td>18</td>\n",
       "    </tr>\n",
       "    <tr>\n",
       "      <th>6</th>\n",
       "      <td>KMI_6484</td>\n",
       "      <td>1447.547987</td>\n",
       "      <td>410.672521</td>\n",
       "      <td>17</td>\n",
       "    </tr>\n",
       "    <tr>\n",
       "      <th>7</th>\n",
       "      <td>KMI_6414</td>\n",
       "      <td>1351.436871</td>\n",
       "      <td>657.902434</td>\n",
       "      <td>17</td>\n",
       "    </tr>\n",
       "    <tr>\n",
       "      <th>8</th>\n",
       "      <td>P11_007</td>\n",
       "      <td>1293.762120</td>\n",
       "      <td>498.526282</td>\n",
       "      <td>16</td>\n",
       "    </tr>\n",
       "    <tr>\n",
       "      <th>9</th>\n",
       "      <td>P08_009</td>\n",
       "      <td>1312.770803</td>\n",
       "      <td>784.515398</td>\n",
       "      <td>16</td>\n",
       "    </tr>\n",
       "    <tr>\n",
       "      <th>10</th>\n",
       "      <td>P09_016</td>\n",
       "      <td>1277.558439</td>\n",
       "      <td>605.450071</td>\n",
       "      <td>16</td>\n",
       "    </tr>\n",
       "    <tr>\n",
       "      <th>11</th>\n",
       "      <td>P03_017</td>\n",
       "      <td>1492.972795</td>\n",
       "      <td>641.917534</td>\n",
       "      <td>16</td>\n",
       "    </tr>\n",
       "    <tr>\n",
       "      <th>12</th>\n",
       "      <td>P03_005</td>\n",
       "      <td>1282.562029</td>\n",
       "      <td>415.816142</td>\n",
       "      <td>16</td>\n",
       "    </tr>\n",
       "    <tr>\n",
       "      <th>13</th>\n",
       "      <td>P08_018</td>\n",
       "      <td>1377.282162</td>\n",
       "      <td>796.665508</td>\n",
       "      <td>16</td>\n",
       "    </tr>\n",
       "    <tr>\n",
       "      <th>14</th>\n",
       "      <td>P02_008</td>\n",
       "      <td>1107.936325</td>\n",
       "      <td>413.800105</td>\n",
       "      <td>16</td>\n",
       "    </tr>\n",
       "    <tr>\n",
       "      <th>15</th>\n",
       "      <td>P02_004</td>\n",
       "      <td>1378.959393</td>\n",
       "      <td>909.600748</td>\n",
       "      <td>16</td>\n",
       "    </tr>\n",
       "    <tr>\n",
       "      <th>16</th>\n",
       "      <td>P08_013</td>\n",
       "      <td>1189.783684</td>\n",
       "      <td>545.068058</td>\n",
       "      <td>16</td>\n",
       "    </tr>\n",
       "    <tr>\n",
       "      <th>17</th>\n",
       "      <td>P01_015</td>\n",
       "      <td>1090.112730</td>\n",
       "      <td>437.259380</td>\n",
       "      <td>16</td>\n",
       "    </tr>\n",
       "    <tr>\n",
       "      <th>18</th>\n",
       "      <td>P01_010</td>\n",
       "      <td>1449.691160</td>\n",
       "      <td>622.033426</td>\n",
       "      <td>16</td>\n",
       "    </tr>\n",
       "    <tr>\n",
       "      <th>19</th>\n",
       "      <td>P01_003</td>\n",
       "      <td>1418.290092</td>\n",
       "      <td>767.219120</td>\n",
       "      <td>16</td>\n",
       "    </tr>\n",
       "    <tr>\n",
       "      <th>20</th>\n",
       "      <td>P07_006</td>\n",
       "      <td>1044.724301</td>\n",
       "      <td>409.969541</td>\n",
       "      <td>16</td>\n",
       "    </tr>\n",
       "    <tr>\n",
       "      <th>21</th>\n",
       "      <td>P09_012</td>\n",
       "      <td>1152.069795</td>\n",
       "      <td>484.212211</td>\n",
       "      <td>16</td>\n",
       "    </tr>\n",
       "    <tr>\n",
       "      <th>22</th>\n",
       "      <td>P06_014</td>\n",
       "      <td>1071.548622</td>\n",
       "      <td>278.587932</td>\n",
       "      <td>15</td>\n",
       "    </tr>\n",
       "    <tr>\n",
       "      <th>23</th>\n",
       "      <td>P10_011</td>\n",
       "      <td>1150.559920</td>\n",
       "      <td>413.434757</td>\n",
       "      <td>15</td>\n",
       "    </tr>\n",
       "    <tr>\n",
       "      <th>24</th>\n",
       "      <td>P11_002</td>\n",
       "      <td>1277.225780</td>\n",
       "      <td>718.007959</td>\n",
       "      <td>15</td>\n",
       "    </tr>\n",
       "    <tr>\n",
       "      <th>25</th>\n",
       "      <td>KMI_6477</td>\n",
       "      <td>1345.682044</td>\n",
       "      <td>658.148797</td>\n",
       "      <td>15</td>\n",
       "    </tr>\n",
       "    <tr>\n",
       "      <th>26</th>\n",
       "      <td>P05_019</td>\n",
       "      <td>834.893640</td>\n",
       "      <td>187.452290</td>\n",
       "      <td>14</td>\n",
       "    </tr>\n",
       "    <tr>\n",
       "      <th>27</th>\n",
       "      <td>P07_021</td>\n",
       "      <td>1024.883579</td>\n",
       "      <td>567.140448</td>\n",
       "      <td>14</td>\n",
       "    </tr>\n",
       "    <tr>\n",
       "      <th>28</th>\n",
       "      <td>P07_022</td>\n",
       "      <td>1290.671931</td>\n",
       "      <td>447.699099</td>\n",
       "      <td>14</td>\n",
       "    </tr>\n",
       "    <tr>\n",
       "      <th>29</th>\n",
       "      <td>P11_024</td>\n",
       "      <td>1448.570922</td>\n",
       "      <td>1059.335762</td>\n",
       "      <td>14</td>\n",
       "    </tr>\n",
       "    <tr>\n",
       "      <th>30</th>\n",
       "      <td>P04_020</td>\n",
       "      <td>1155.457860</td>\n",
       "      <td>585.477272</td>\n",
       "      <td>13</td>\n",
       "    </tr>\n",
       "    <tr>\n",
       "      <th>31</th>\n",
       "      <td>P04_001</td>\n",
       "      <td>1537.649048</td>\n",
       "      <td>485.756724</td>\n",
       "      <td>13</td>\n",
       "    </tr>\n",
       "    <tr>\n",
       "      <th>32</th>\n",
       "      <td>KMI_6439</td>\n",
       "      <td>1169.529461</td>\n",
       "      <td>480.978707</td>\n",
       "      <td>13</td>\n",
       "    </tr>\n",
       "    <tr>\n",
       "      <th>33</th>\n",
       "      <td>P08_031</td>\n",
       "      <td>1198.694291</td>\n",
       "      <td>611.355465</td>\n",
       "      <td>12</td>\n",
       "    </tr>\n",
       "    <tr>\n",
       "      <th>34</th>\n",
       "      <td>P08_028</td>\n",
       "      <td>1137.982185</td>\n",
       "      <td>728.176289</td>\n",
       "      <td>12</td>\n",
       "    </tr>\n",
       "    <tr>\n",
       "      <th>35</th>\n",
       "      <td>P09_025</td>\n",
       "      <td>1142.020684</td>\n",
       "      <td>533.306992</td>\n",
       "      <td>12</td>\n",
       "    </tr>\n",
       "    <tr>\n",
       "      <th>36</th>\n",
       "      <td>P09_032</td>\n",
       "      <td>1399.275294</td>\n",
       "      <td>850.543054</td>\n",
       "      <td>12</td>\n",
       "    </tr>\n",
       "    <tr>\n",
       "      <th>37</th>\n",
       "      <td>P09_026</td>\n",
       "      <td>1102.756760</td>\n",
       "      <td>559.757068</td>\n",
       "      <td>12</td>\n",
       "    </tr>\n",
       "    <tr>\n",
       "      <th>38</th>\n",
       "      <td>P04_027</td>\n",
       "      <td>1210.151071</td>\n",
       "      <td>425.203837</td>\n",
       "      <td>12</td>\n",
       "    </tr>\n",
       "    <tr>\n",
       "      <th>39</th>\n",
       "      <td>P06_040</td>\n",
       "      <td>1083.610845</td>\n",
       "      <td>320.083690</td>\n",
       "      <td>12</td>\n",
       "    </tr>\n",
       "    <tr>\n",
       "      <th>40</th>\n",
       "      <td>P03_041</td>\n",
       "      <td>1066.256349</td>\n",
       "      <td>364.446664</td>\n",
       "      <td>12</td>\n",
       "    </tr>\n",
       "    <tr>\n",
       "      <th>41</th>\n",
       "      <td>P01_029</td>\n",
       "      <td>1332.382381</td>\n",
       "      <td>996.246264</td>\n",
       "      <td>12</td>\n",
       "    </tr>\n",
       "    <tr>\n",
       "      <th>42</th>\n",
       "      <td>P05_039</td>\n",
       "      <td>1362.462917</td>\n",
       "      <td>670.997759</td>\n",
       "      <td>12</td>\n",
       "    </tr>\n",
       "    <tr>\n",
       "      <th>43</th>\n",
       "      <td>P03_036</td>\n",
       "      <td>1462.484563</td>\n",
       "      <td>844.271765</td>\n",
       "      <td>12</td>\n",
       "    </tr>\n",
       "    <tr>\n",
       "      <th>44</th>\n",
       "      <td>P01_037</td>\n",
       "      <td>886.616101</td>\n",
       "      <td>279.273285</td>\n",
       "      <td>12</td>\n",
       "    </tr>\n",
       "    <tr>\n",
       "      <th>45</th>\n",
       "      <td>P11_043</td>\n",
       "      <td>1388.573908</td>\n",
       "      <td>868.620922</td>\n",
       "      <td>12</td>\n",
       "    </tr>\n",
       "    <tr>\n",
       "      <th>46</th>\n",
       "      <td>P08_033</td>\n",
       "      <td>1423.522459</td>\n",
       "      <td>620.629392</td>\n",
       "      <td>11</td>\n",
       "    </tr>\n",
       "    <tr>\n",
       "      <th>47</th>\n",
       "      <td>P09_034</td>\n",
       "      <td>1157.774954</td>\n",
       "      <td>462.258067</td>\n",
       "      <td>11</td>\n",
       "    </tr>\n",
       "    <tr>\n",
       "      <th>48</th>\n",
       "      <td>P09_035</td>\n",
       "      <td>1670.461762</td>\n",
       "      <td>945.339789</td>\n",
       "      <td>11</td>\n",
       "    </tr>\n",
       "    <tr>\n",
       "      <th>49</th>\n",
       "      <td>P08_023</td>\n",
       "      <td>1040.904464</td>\n",
       "      <td>454.344420</td>\n",
       "      <td>10</td>\n",
       "    </tr>\n",
       "    <tr>\n",
       "      <th>50</th>\n",
       "      <td>P10_042</td>\n",
       "      <td>1237.331122</td>\n",
       "      <td>565.793083</td>\n",
       "      <td>10</td>\n",
       "    </tr>\n",
       "    <tr>\n",
       "      <th>51</th>\n",
       "      <td>P02_030</td>\n",
       "      <td>1077.718705</td>\n",
       "      <td>323.032167</td>\n",
       "      <td>9</td>\n",
       "    </tr>\n",
       "    <tr>\n",
       "      <th>52</th>\n",
       "      <td>P05_038</td>\n",
       "      <td>968.648040</td>\n",
       "      <td>238.527416</td>\n",
       "      <td>9</td>\n",
       "    </tr>\n",
       "    <tr>\n",
       "      <th>53</th>\n",
       "      <td>KMI_6418</td>\n",
       "      <td>823.844453</td>\n",
       "      <td>377.651136</td>\n",
       "      <td>8</td>\n",
       "    </tr>\n",
       "    <tr>\n",
       "      <th>54</th>\n",
       "      <td>KMI_6494</td>\n",
       "      <td>2378.797416</td>\n",
       "      <td>812.871388</td>\n",
       "      <td>8</td>\n",
       "    </tr>\n",
       "    <tr>\n",
       "      <th>55</th>\n",
       "      <td>KMI_6464</td>\n",
       "      <td>1121.448030</td>\n",
       "      <td>584.265294</td>\n",
       "      <td>8</td>\n",
       "    </tr>\n",
       "    <tr>\n",
       "      <th>56</th>\n",
       "      <td>KMI_6431</td>\n",
       "      <td>1042.802421</td>\n",
       "      <td>271.880632</td>\n",
       "      <td>6</td>\n",
       "    </tr>\n",
       "    <tr>\n",
       "      <th>57</th>\n",
       "      <td>P04__01</td>\n",
       "      <td>1050.077755</td>\n",
       "      <td>645.674255</td>\n",
       "      <td>2</td>\n",
       "    </tr>\n",
       "    <tr>\n",
       "      <th>58</th>\n",
       "      <td>P01_001</td>\n",
       "      <td>410.447246</td>\n",
       "      <td>NaN</td>\n",
       "      <td>1</td>\n",
       "    </tr>\n",
       "  </tbody>\n",
       "</table>\n",
       "</div>"
      ],
      "text/plain": [
       "     station erosivity_cum               year\n",
       "                      mean          std count\n",
       "0    KMI_FS3   1013.447980   372.030461   105\n",
       "1   KMI_6459   1342.419073   585.411025    20\n",
       "2   KMI_6455   1203.791757   578.286308    20\n",
       "3   KMI_6434   1395.650915   505.788697    18\n",
       "4   KMI_6472   1283.746950   664.442273    18\n",
       "5   KMI_6447   1336.397628   717.022599    18\n",
       "6   KMI_6484   1447.547987   410.672521    17\n",
       "7   KMI_6414   1351.436871   657.902434    17\n",
       "8    P11_007   1293.762120   498.526282    16\n",
       "9    P08_009   1312.770803   784.515398    16\n",
       "10   P09_016   1277.558439   605.450071    16\n",
       "11   P03_017   1492.972795   641.917534    16\n",
       "12   P03_005   1282.562029   415.816142    16\n",
       "13   P08_018   1377.282162   796.665508    16\n",
       "14   P02_008   1107.936325   413.800105    16\n",
       "15   P02_004   1378.959393   909.600748    16\n",
       "16   P08_013   1189.783684   545.068058    16\n",
       "17   P01_015   1090.112730   437.259380    16\n",
       "18   P01_010   1449.691160   622.033426    16\n",
       "19   P01_003   1418.290092   767.219120    16\n",
       "20   P07_006   1044.724301   409.969541    16\n",
       "21   P09_012   1152.069795   484.212211    16\n",
       "22   P06_014   1071.548622   278.587932    15\n",
       "23   P10_011   1150.559920   413.434757    15\n",
       "24   P11_002   1277.225780   718.007959    15\n",
       "25  KMI_6477   1345.682044   658.148797    15\n",
       "26   P05_019    834.893640   187.452290    14\n",
       "27   P07_021   1024.883579   567.140448    14\n",
       "28   P07_022   1290.671931   447.699099    14\n",
       "29   P11_024   1448.570922  1059.335762    14\n",
       "30   P04_020   1155.457860   585.477272    13\n",
       "31   P04_001   1537.649048   485.756724    13\n",
       "32  KMI_6439   1169.529461   480.978707    13\n",
       "33   P08_031   1198.694291   611.355465    12\n",
       "34   P08_028   1137.982185   728.176289    12\n",
       "35   P09_025   1142.020684   533.306992    12\n",
       "36   P09_032   1399.275294   850.543054    12\n",
       "37   P09_026   1102.756760   559.757068    12\n",
       "38   P04_027   1210.151071   425.203837    12\n",
       "39   P06_040   1083.610845   320.083690    12\n",
       "40   P03_041   1066.256349   364.446664    12\n",
       "41   P01_029   1332.382381   996.246264    12\n",
       "42   P05_039   1362.462917   670.997759    12\n",
       "43   P03_036   1462.484563   844.271765    12\n",
       "44   P01_037    886.616101   279.273285    12\n",
       "45   P11_043   1388.573908   868.620922    12\n",
       "46   P08_033   1423.522459   620.629392    11\n",
       "47   P09_034   1157.774954   462.258067    11\n",
       "48   P09_035   1670.461762   945.339789    11\n",
       "49   P08_023   1040.904464   454.344420    10\n",
       "50   P10_042   1237.331122   565.793083    10\n",
       "51   P02_030   1077.718705   323.032167     9\n",
       "52   P05_038    968.648040   238.527416     9\n",
       "53  KMI_6418    823.844453   377.651136     8\n",
       "54  KMI_6494   2378.797416   812.871388     8\n",
       "55  KMI_6464   1121.448030   584.265294     8\n",
       "56  KMI_6431   1042.802421   271.880632     6\n",
       "57   P04__01   1050.077755   645.674255     2\n",
       "58   P01_001    410.447246          NaN     1"
      ]
     },
     "execution_count": null,
     "metadata": {},
     "output_type": "execute_result"
    }
   ],
   "source": [
    "(get_rfactor_station_year(erosivity)\n",
    " .groupby(\"station\")\n",
    " .aggregate(\n",
    "    {\"erosivity_cum\":[np.mean, np.std],\n",
    "     \"year\": \"count\"})\n",
    " .sort_values(('year', 'count'), ascending=False)\n",
    " .reset_index()\n",
    ")"
   ]
  },
  {
   "cell_type": "markdown",
   "metadata": {},
   "source": [
    "## Analysis (monthly resolution)\n",
    "Get the EI30-values for 2018 based on two Ukkel station (\"KMI_6447\",\"KMI_FS3\")  "
   ]
  },
  {
   "cell_type": "code",
   "execution_count": null,
   "metadata": {},
   "outputs": [
    {
     "data": {
      "text/html": [
       "<div>\n",
       "<style scoped>\n",
       "    .dataframe tbody tr th:only-of-type {\n",
       "        vertical-align: middle;\n",
       "    }\n",
       "\n",
       "    .dataframe tbody tr th {\n",
       "        vertical-align: top;\n",
       "    }\n",
       "\n",
       "    .dataframe thead th {\n",
       "        text-align: right;\n",
       "    }\n",
       "</style>\n",
       "<table border=\"1\" class=\"dataframe\">\n",
       "  <thead>\n",
       "    <tr style=\"text-align: right;\">\n",
       "      <th></th>\n",
       "      <th>erosivity</th>\n",
       "      <th>month</th>\n",
       "    </tr>\n",
       "    <tr>\n",
       "      <th>datetime</th>\n",
       "      <th></th>\n",
       "      <th></th>\n",
       "    </tr>\n",
       "  </thead>\n",
       "  <tbody>\n",
       "    <tr>\n",
       "      <th>1898-01-31</th>\n",
       "      <td>4.207924</td>\n",
       "      <td>1</td>\n",
       "    </tr>\n",
       "    <tr>\n",
       "      <th>1898-02-28</th>\n",
       "      <td>31.135034</td>\n",
       "      <td>2</td>\n",
       "    </tr>\n",
       "    <tr>\n",
       "      <th>1898-03-31</th>\n",
       "      <td>20.293480</td>\n",
       "      <td>3</td>\n",
       "    </tr>\n",
       "    <tr>\n",
       "      <th>1898-04-30</th>\n",
       "      <td>19.440921</td>\n",
       "      <td>4</td>\n",
       "    </tr>\n",
       "    <tr>\n",
       "      <th>1898-05-31</th>\n",
       "      <td>31.670560</td>\n",
       "      <td>5</td>\n",
       "    </tr>\n",
       "  </tbody>\n",
       "</table>\n",
       "</div>"
      ],
      "text/plain": [
       "            erosivity  month\n",
       "datetime                    \n",
       "1898-01-31   4.207924      1\n",
       "1898-02-28  31.135034      2\n",
       "1898-03-31  20.293480      3\n",
       "1898-04-30  19.440921      4\n",
       "1898-05-31  31.670560      5"
      ]
     },
     "execution_count": null,
     "metadata": {},
     "output_type": "execute_result"
    }
   ],
   "source": [
    "erosivity_monthly = (erosivity.loc[erosivity[\"station\"].isin([\"KMI_6447\", \"KMI_FS3\"]), \"erosivity\"]\n",
    "                     .resample(\"M\")\n",
    "                     .sum()\n",
    "                     .to_frame())\n",
    "erosivity_monthly[\"month\"] = erosivity_monthly.index.month\n",
    "erosivity_monthly.head()"
   ]
  },
  {
   "cell_type": "markdown",
   "metadata": {},
   "source": [
    "Get mean and interquartile range of monthly R-factor"
   ]
  },
  {
   "cell_type": "code",
   "execution_count": null,
   "metadata": {},
   "outputs": [],
   "source": [
    "em = (erosivity_monthly\n",
    "      .groupby(\"month\")\n",
    "      .aggregate({\n",
    "          \"erosivity\":[np.mean, \n",
    "                       lambda x: np.percentile(x, 25), \n",
    "                       lambda x: np.percentile(x,75)]\n",
    "      }))"
   ]
  },
  {
   "cell_type": "code",
   "execution_count": null,
   "metadata": {},
   "outputs": [],
   "source": [
    "em[\"mean\"] = em[\"erosivity\"][\"mean\"]\n",
    "em[\"l_e\"] = em[\"erosivity\"][\"mean\"] - em[\"erosivity\"][\"<lambda_0>\"]\n",
    "em[\"u_e\"] = em[\"erosivity\"][\"<lambda_1>\"] - em[\"erosivity\"][\"mean\"]"
   ]
  },
  {
   "cell_type": "markdown",
   "metadata": {},
   "source": [
    "**Plot**"
   ]
  },
  {
   "cell_type": "code",
   "execution_count": null,
   "metadata": {},
   "outputs": [
    {
     "data": {
      "image/png": "[encoded data removed]",
      "text/plain": [
       "<Figure size 576x288 with 1 Axes>"
      ]
     },
     "metadata": {
      "needs_background": "light"
     },
     "output_type": "display_data"
    }
   ],
   "source": [
    "fig = plt.figure(figsize=(8, 4))\n",
    "\n",
    "x = np.arange(len(em))\n",
    "y_gv = [26, 20, 24, 27, 70, 77, 144, 102, 68, 50, 37, 32]\n",
    "y_gv2 = [35, 27, 32, 36, 86, 96, 177, 135, 89, 66, 48, 43]\n",
    "plt.bar(x-0.3,em[\"mean\"],yerr=em[[\"l_e\",\"u_e\"]].T.values,color=[0.80]*3,width=0.3,label=\"Ukkel (1898-2020))\")\n",
    "plt.bar(x,y_gv,width=0.3,color=[0.5]*3,label=\"Verstraeten $\\it{et. al}$ (2001)\")\n",
    "plt.bar(x+0.3,y_gv2,width=0.3,color=[0.2]*3,label=\"Verstraeten $\\it{et. al}$ (2006)\")\n",
    "plt.ylabel(\"R-value\")\n",
    "ax = fig.axes\n",
    "plt.xticks(x,[\"Januari\",\"Februari\",\"Maart\",\"April\",\"Mei\",\"Juni\",\"Juli\",\"Augustus\",\"September\",\"Oktober\",\"November\",\"December\"],rotation=45)\n",
    "plt.legend(loc=2,facecolor =\"white\")\n",
    "plt.ylabel(r\"R-waarde [MJ mm ha$^{-1}$ h$^{-1}$ maand$^{-1}$]\");"
   ]
  },
  {
   "cell_type": "markdown",
   "metadata": {},
   "source": [
    "## Additional: monthly analysis (detail)\n",
    "\n",
    "**Evolution monthly R-value**\n",
    "\n",
    "Generate plot to analyse evolution of montly R over the years"
   ]
  },
  {
   "cell_type": "code",
   "execution_count": null,
   "metadata": {},
   "outputs": [
    {
     "name": "stdout",
     "output_type": "stream",
     "text": [
      "> \u001b[1;32mc:\\users\\sachagobeyn\\appdata\\local\\temp\\ipykernel_7912\\2119480015.py\u001b[0m(15)\u001b[0;36msubplot_montlhy_R\u001b[1;34m()\u001b[0m\n",
      "\n"
     ]
    },
    {
     "name": "stdin",
     "output_type": "stream",
     "text": [
      "ipdb>  y.index.year+1898\n"
     ]
    },
    {
     "name": "stdout",
     "output_type": "stream",
     "text": [
      "Int64Index([3796, 3797, 3798, 3799, 3800, 3801, 3802, 3803, 3804, 3805,\n",
      "            ...\n",
      "            3909, 3910, 3911, 3912, 3913, 3914, 3915, 3916, 3917, 3918],\n",
      "           dtype='int64', name='datetime', length=123)\n"
     ]
    },
    {
     "name": "stdin",
     "output_type": "stream",
     "text": [
      "ipdb>  y.index.year\n"
     ]
    },
    {
     "name": "stdout",
     "output_type": "stream",
     "text": [
      "Int64Index([1898, 1899, 1900, 1901, 1902, 1903, 1904, 1905, 1906, 1907,\n",
      "            ...\n",
      "            2011, 2012, 2013, 2014, 2015, 2016, 2017, 2018, 2019, 2020],\n",
      "           dtype='int64', name='datetime', length=123)\n"
     ]
    }
   ],
   "source": [
    "def subplot_montlhy_R(df,ax,ind1,ind2):\n",
    "    \n",
    "    if (ind1==0) & (ind2==2):\n",
    "        ax.plot(df[\"year\"],df[\"erosivity\"],color=[0.1]*3,alpha=0.5,label=\"EI30\")\n",
    "    else:\n",
    "        ax.plot(df[\"year\"],df[\"erosivity\"],color=[0.1]*3,alpha=0.5)\n",
    "    ax.fill_between([1998,2021], 0,500,facecolor='grey', alpha=0.3)    \n",
    "    # rolling mean\n",
    "    scales  = [10,20,30]\n",
    "    for scale in scales:\n",
    "        y = df[\"erosivity\"].rolling(scale).mean()\n",
    "        if scale==10:\n",
    "            y_max=np.nanmax(y.values)*1.1\n",
    "        import pdb;pdb.set_trace()\n",
    "        x = y.index.year+1898\n",
    "        ax.plot(x,y,lw=2,label=f'voortschrijdend gemiddelde ({scale} jaar)')\n",
    "    if ind1!=3:\n",
    "        ax.set_xticks([])\n",
    "    else:\n",
    "        if ind2==1:\n",
    "            ax.set_xlabel(r'Jaar (-)',fontsize=16)\n",
    "    ax.set_ylim([0,500])\n",
    "    ax.set_title(name)\n",
    "    ax.tick_params(axis='y', which='major', labelsize=12,rotation=90)\n",
    "    ax.tick_params(axis='x', which='major', labelsize=12)\n",
    "    if ind2!=0:\n",
    "        ax.set_yticklabels([])\n",
    "    else:\n",
    "        if ind1==2:\n",
    "            ax.set_ylabel('\\t\\t\\t Maandelijkse R [MJ mm ha$^{-1}$ h$^{-1}$ maand$^{-1}$]',fontsize=16)\n",
    "    if (ind1==0) & (ind2==2):\n",
    "        ax.legend(ncol=2)\n",
    "        \n",
    "fig,ax = plt.subplots(4,3,figsize=[9,9])\n",
    "months = [\"Januari\",\"Februari\",\"Maart\",\"April\",\"Mei\",\"Juni\",\"Juli\",\"Augustus\",\"September\",\"Oktober\",\"November\",\"December\"]\n",
    "erosivity_monthly[\"year\"] = erosivity_monthly.index.year\n",
    "\n",
    "for month,name in enumerate(months):\n",
    "    ind1=int(np.floor((month)/3))\n",
    "    ind2=np.mod(month,3)\n",
    "    df_plot = erosivity_monthly.loc[erosivity_monthly[\"month\"]==month+1]\n",
    "    df_plot  = df_plot [~np.isnan(df_plot[\"erosivity\"])].sort_values(\"year\")\n",
    "    subplot_montlhy_R(df_plot,ax[ind1,ind2],ind1,ind2)\n",
    "\n"
   ]
  },
  {
   "cell_type": "code",
   "execution_count": null,
   "metadata": {},
   "outputs": [],
   "source": []
  }
 ],
 "metadata": {
  "keep_output": true,
  "kernelspec": {
   "display_name": "rfactor",
   "language": "python",
   "name": "rfactor"
  },
  "language_info": {
   "codemirror_mode": {
    "name": "ipython",
    "version": 3
   },
   "file_extension": ".py",
   "mimetype": "text/x-python",
   "name": "python",
   "nbconvert_exporter": "python",
   "pygments_lexer": "ipython3",
   "version": "3.8.13"
  },
  "toc": {
   "base_numbering": 1,
   "nav_menu": {},
   "number_sections": true,
   "sideBar": true,
   "skip_h1_title": false,
   "title_cell": "Table of Contents",
   "title_sidebar": "Contents",
   "toc_cell": false,
   "toc_position": {},
   "toc_section_display": true,
   "toc_window_display": false
  },
  "varInspector": {
   "cols": {
    "lenName": 16,
    "lenType": 16,
    "lenVar": 40
   },
   "kernels_config": {
    "python": {
     "delete_cmd_postfix": "",
     "delete_cmd_prefix": "del ",
     "library": "var_list.py",
     "varRefreshCmd": "print(var_dic_list())"
    },
    "r": {
     "delete_cmd_postfix": ") ",
     "delete_cmd_prefix": "rm(",
     "library": "var_list.r",
     "varRefreshCmd": "cat(var_dic_list()) "
    }
   },
   "types_to_exclude": [
    "module",
    "function",
    "builtin_function_or_method",
    "instance",
    "_Feature"
   ],
   "window_display": false
  }
 },
 "nbformat": 4,
 "nbformat_minor": 4
}
