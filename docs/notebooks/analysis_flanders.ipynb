{
 "cells": [
  {
   "cell_type": "code",
   "execution_count": null,
   "metadata": {},
   "outputs": [],
   "source": [
    "%load_ext autoreload\n",
    "%autoreload 2"
   ]
  },
  {
   "cell_type": "markdown",
   "metadata": {},
   "source": [
    "# Application of rfactor on data det Flanders"
   ]
  },
  {
   "cell_type": "markdown",
   "metadata": {},
   "source": [
    "## Aim\n",
    "\n",
    "Implementation to compute and analyse the R-factor of the RUSLE-equation. The\n",
    "R-factor is a measure for the total erosivity of a number of rainfall events\n",
    "within a defined timeframe (year, month, number of days). The factor is\n",
    "computed by calculating the yearly sum of -for every rainfall event- the sum\n",
    "of the depth of rainfall (mm) and the kinetic energy, and taking the mean\n",
    "over all years.\n",
    "\n",
    "---\n",
    "__NOTE__\n",
    "\n",
    "This notebook does not include the erosivity computation based on the Royal Meteorological Institute of Belgium (RMI) rainfall data, as the data is not available as open data. One can contact RMI to obtain the rainfall input data. Alternatively, the results of the computation of the erosivity values based on the RMI data are provided in this notebook as well as other rainfall input data, so one can proceed with the analysis.\n",
    "\n",
    "---"
   ]
  },
  {
   "cell_type": "markdown",
   "metadata": {},
   "source": [
    "## Package imports"
   ]
  },
  {
   "cell_type": "code",
   "execution_count": null,
   "metadata": {},
   "outputs": [],
   "source": [
    "from pathlib import Path\n",
    "\n",
    "import numpy as np\n",
    "import pandas as pd\n",
    "import matplotlib.pyplot as plt"
   ]
  },
  {
   "cell_type": "markdown",
   "metadata": {},
   "source": [
    "Load the `rfactor` package functionalities"
   ]
  },
  {
   "cell_type": "code",
   "execution_count": null,
   "metadata": {},
   "outputs": [],
   "source": [
    "from rfactor import compute_erosivity, maximum_intensity_matlab_clone, rain_energy_verstraeten2006\n",
    "from rfactor.process import load_rain_folder , load_rain_file_matlab_legacy, compute_rainfall_statistics, get_rfactor_station_year"
   ]
  },
  {
   "cell_type": "markdown",
   "metadata": {},
   "source": [
    "## Input data and compute erosivity\n",
    "\n",
    "__Set folders__\n",
    "\n",
    "The main function `compute_erosivity` requires a [pandas DataFrame](https://pandas.pydata.org/docs/index.html) containing __non-zero__ rainfall data with the following columns:\n",
    "\n",
    "- datetime (pd.Timestamp): Time stamp\n",
    "- rain_mm (float): Rain in mm\n",
    "- station (str): Measurement station identifier\n",
    "\n",
    "However, the legacy format of the input files used in the original Matlab implementation is still supported as well. For this format, te input files are defined by text files (extension: `txt`) that hold __non-zero rainfall__ timeseries. The data are split per station and per year with a specific data file tag `STATION_YYYY`:  \n",
    "\n",
    "```\n",
    "KMI_6414_2004.txt  \n",
    "KMI_6414_2005.txt  \n",
    "...  \n",
    "KMI_6434_2003.txt  \n",
    "KMI_6434_2004.txt  \n",
    "...  \n",
    "```\n",
    "\n",
    "__Note__: the files in `tests/data/test_rainfalldata` are an incomplete data set for Belgium (RMI rainfall data are not included), an alternative is provided in the section 'Analysis'."
   ]
  },
  {
   "cell_type": "code",
   "execution_count": null,
   "metadata": {},
   "outputs": [],
   "source": [
    "fmap_rainfall =  Path(r\"../../tests/data/test_rainfalldata\")"
   ]
  },
  {
   "cell_type": "markdown",
   "metadata": {},
   "source": [
    "Use the `load_rain_folder` function to read all rain data in a folder:"
   ]
  },
  {
   "cell_type": "code",
   "execution_count": null,
   "metadata": {},
   "outputs": [
    {
     "name": "stderr",
     "output_type": "stream",
     "text": [
      "Processing input files: 100%|██████████████████████████████████████████████████████████| 10/10 [00:00<00:00, 55.43it/s]\n"
     ]
    }
   ],
   "source": [
    "all_rainfall = load_rain_folder(fmap_rainfall, load_rain_file_matlab_legacy)"
   ]
  },
  {
   "cell_type": "code",
   "execution_count": null,
   "metadata": {},
   "outputs": [
    {
     "data": {
      "text/html": [
       "<div>\n",
       "<style scoped>\n",
       "    .dataframe tbody tr th:only-of-type {\n",
       "        vertical-align: middle;\n",
       "    }\n",
       "\n",
       "    .dataframe tbody tr th {\n",
       "        vertical-align: top;\n",
       "    }\n",
       "\n",
       "    .dataframe thead th {\n",
       "        text-align: right;\n",
       "    }\n",
       "</style>\n",
       "<table border=\"1\" class=\"dataframe\">\n",
       "  <thead>\n",
       "    <tr style=\"text-align: right;\">\n",
       "      <th></th>\n",
       "      <th>datetime</th>\n",
       "      <th>station</th>\n",
       "      <th>rain_mm</th>\n",
       "      <th>year</th>\n",
       "      <th>tag</th>\n",
       "    </tr>\n",
       "  </thead>\n",
       "  <tbody>\n",
       "    <tr>\n",
       "      <th>0</th>\n",
       "      <td>2018-01-01 02:10:00</td>\n",
       "      <td>P01_001</td>\n",
       "      <td>0.27</td>\n",
       "      <td>2018</td>\n",
       "      <td>P01_001_2018</td>\n",
       "    </tr>\n",
       "    <tr>\n",
       "      <th>1</th>\n",
       "      <td>2018-01-01 02:20:00</td>\n",
       "      <td>P01_001</td>\n",
       "      <td>0.02</td>\n",
       "      <td>2018</td>\n",
       "      <td>P01_001_2018</td>\n",
       "    </tr>\n",
       "    <tr>\n",
       "      <th>2</th>\n",
       "      <td>2018-01-01 03:10:00</td>\n",
       "      <td>P01_001</td>\n",
       "      <td>0.48</td>\n",
       "      <td>2018</td>\n",
       "      <td>P01_001_2018</td>\n",
       "    </tr>\n",
       "    <tr>\n",
       "      <th>3</th>\n",
       "      <td>2018-01-01 07:40:00</td>\n",
       "      <td>P01_001</td>\n",
       "      <td>0.22</td>\n",
       "      <td>2018</td>\n",
       "      <td>P01_001_2018</td>\n",
       "    </tr>\n",
       "    <tr>\n",
       "      <th>4</th>\n",
       "      <td>2018-01-01 07:50:00</td>\n",
       "      <td>P01_001</td>\n",
       "      <td>0.09</td>\n",
       "      <td>2018</td>\n",
       "      <td>P01_001_2018</td>\n",
       "    </tr>\n",
       "    <tr>\n",
       "      <th>...</th>\n",
       "      <td>...</td>\n",
       "      <td>...</td>\n",
       "      <td>...</td>\n",
       "      <td>...</td>\n",
       "      <td>...</td>\n",
       "    </tr>\n",
       "    <tr>\n",
       "      <th>38242</th>\n",
       "      <td>2012-12-30 19:20:00</td>\n",
       "      <td>P11_024</td>\n",
       "      <td>0.09</td>\n",
       "      <td>2012</td>\n",
       "      <td>P11_024_2012</td>\n",
       "    </tr>\n",
       "    <tr>\n",
       "      <th>38243</th>\n",
       "      <td>2012-12-30 19:30:00</td>\n",
       "      <td>P11_024</td>\n",
       "      <td>0.03</td>\n",
       "      <td>2012</td>\n",
       "      <td>P11_024_2012</td>\n",
       "    </tr>\n",
       "    <tr>\n",
       "      <th>38244</th>\n",
       "      <td>2012-12-30 19:50:00</td>\n",
       "      <td>P11_024</td>\n",
       "      <td>0.04</td>\n",
       "      <td>2012</td>\n",
       "      <td>P11_024_2012</td>\n",
       "    </tr>\n",
       "    <tr>\n",
       "      <th>38245</th>\n",
       "      <td>2012-12-30 21:20:00</td>\n",
       "      <td>P11_024</td>\n",
       "      <td>0.04</td>\n",
       "      <td>2012</td>\n",
       "      <td>P11_024_2012</td>\n",
       "    </tr>\n",
       "    <tr>\n",
       "      <th>38246</th>\n",
       "      <td>2012-12-31 23:10:00</td>\n",
       "      <td>P11_024</td>\n",
       "      <td>0.04</td>\n",
       "      <td>2012</td>\n",
       "      <td>P11_024_2012</td>\n",
       "    </tr>\n",
       "  </tbody>\n",
       "</table>\n",
       "<p>38247 rows × 5 columns</p>\n",
       "</div>"
      ],
      "text/plain": [
       "                 datetime  station  rain_mm  year           tag\n",
       "0     2018-01-01 02:10:00  P01_001     0.27  2018  P01_001_2018\n",
       "1     2018-01-01 02:20:00  P01_001     0.02  2018  P01_001_2018\n",
       "2     2018-01-01 03:10:00  P01_001     0.48  2018  P01_001_2018\n",
       "3     2018-01-01 07:40:00  P01_001     0.22  2018  P01_001_2018\n",
       "4     2018-01-01 07:50:00  P01_001     0.09  2018  P01_001_2018\n",
       "...                   ...      ...      ...   ...           ...\n",
       "38242 2012-12-30 19:20:00  P11_024     0.09  2012  P11_024_2012\n",
       "38243 2012-12-30 19:30:00  P11_024     0.03  2012  P11_024_2012\n",
       "38244 2012-12-30 19:50:00  P11_024     0.04  2012  P11_024_2012\n",
       "38245 2012-12-30 21:20:00  P11_024     0.04  2012  P11_024_2012\n",
       "38246 2012-12-31 23:10:00  P11_024     0.04  2012  P11_024_2012\n",
       "\n",
       "[38247 rows x 5 columns]"
      ]
     },
     "execution_count": null,
     "metadata": {},
     "output_type": "execute_result"
    }
   ],
   "source": [
    "all_rainfall"
   ]
  },
  {
   "cell_type": "markdown",
   "metadata": {},
   "source": [
    "**Compute rainfall statistics** (and add station metadata)"
   ]
  },
  {
   "cell_type": "code",
   "execution_count": null,
   "metadata": {},
   "outputs": [
    {
     "data": {
      "text/html": [
       "<div>\n",
       "<style scoped>\n",
       "    .dataframe tbody tr th:only-of-type {\n",
       "        vertical-align: middle;\n",
       "    }\n",
       "\n",
       "    .dataframe tbody tr th {\n",
       "        vertical-align: top;\n",
       "    }\n",
       "\n",
       "    .dataframe thead th {\n",
       "        text-align: right;\n",
       "    }\n",
       "</style>\n",
       "<table border=\"1\" class=\"dataframe\">\n",
       "  <thead>\n",
       "    <tr style=\"text-align: right;\">\n",
       "      <th></th>\n",
       "      <th>year</th>\n",
       "      <th>station</th>\n",
       "      <th>x</th>\n",
       "      <th>y</th>\n",
       "      <th>records</th>\n",
       "      <th>min</th>\n",
       "      <th>median</th>\n",
       "      <th>max</th>\n",
       "    </tr>\n",
       "  </thead>\n",
       "  <tbody>\n",
       "    <tr>\n",
       "      <th>0</th>\n",
       "      <td>[2018]</td>\n",
       "      <td>P01_001</td>\n",
       "      <td>NaN</td>\n",
       "      <td>NaN</td>\n",
       "      <td>2718</td>\n",
       "      <td>0.01</td>\n",
       "      <td>0.090</td>\n",
       "      <td>5.05</td>\n",
       "    </tr>\n",
       "    <tr>\n",
       "      <th>1</th>\n",
       "      <td>[2020]</td>\n",
       "      <td>P01_003</td>\n",
       "      <td>51907.0</td>\n",
       "      <td>191193.0</td>\n",
       "      <td>3481</td>\n",
       "      <td>0.01</td>\n",
       "      <td>0.100</td>\n",
       "      <td>4.56</td>\n",
       "    </tr>\n",
       "    <tr>\n",
       "      <th>2</th>\n",
       "      <td>[2012, 2016]</td>\n",
       "      <td>P01_010</td>\n",
       "      <td>45836.0</td>\n",
       "      <td>171260.0</td>\n",
       "      <td>7549</td>\n",
       "      <td>0.01</td>\n",
       "      <td>0.100</td>\n",
       "      <td>17.71</td>\n",
       "    </tr>\n",
       "    <tr>\n",
       "      <th>3</th>\n",
       "      <td>[2018]</td>\n",
       "      <td>P05_038</td>\n",
       "      <td>59622.0</td>\n",
       "      <td>167497.0</td>\n",
       "      <td>2866</td>\n",
       "      <td>0.01</td>\n",
       "      <td>0.105</td>\n",
       "      <td>9.03</td>\n",
       "    </tr>\n",
       "    <tr>\n",
       "      <th>4</th>\n",
       "      <td>[2017]</td>\n",
       "      <td>P05_039</td>\n",
       "      <td>65867.0</td>\n",
       "      <td>181510.0</td>\n",
       "      <td>3536</td>\n",
       "      <td>0.01</td>\n",
       "      <td>0.100</td>\n",
       "      <td>6.96</td>\n",
       "    </tr>\n",
       "  </tbody>\n",
       "</table>\n",
       "</div>"
      ],
      "text/plain": [
       "           year  station        x         y  records   min  median    max\n",
       "0        [2018]  P01_001      NaN       NaN     2718  0.01   0.090   5.05\n",
       "1        [2020]  P01_003  51907.0  191193.0     3481  0.01   0.100   4.56\n",
       "2  [2012, 2016]  P01_010  45836.0  171260.0     7549  0.01   0.100  17.71\n",
       "3        [2018]  P05_038  59622.0  167497.0     2866  0.01   0.105   9.03\n",
       "4        [2017]  P05_039  65867.0  181510.0     3536  0.01   0.100   6.96"
      ]
     },
     "execution_count": null,
     "metadata": {},
     "output_type": "execute_result"
    }
   ],
   "source": [
    "stations = pd.read_csv(\"data/stations.csv\")\n",
    "\n",
    "rain_stats = compute_rainfall_statistics(all_rainfall, stations)\n",
    "rain_stats.head()"
   ]
  },
  {
   "cell_type": "markdown",
   "metadata": {},
   "source": [
    "**Select stations to compute erosivity for**"
   ]
  },
  {
   "cell_type": "code",
   "execution_count": null,
   "metadata": {},
   "outputs": [],
   "source": [
    "consider_stations = pd.read_csv(\"data/files.csv\")\n",
    "\n",
    "sel_rainfall = all_rainfall.loc[all_rainfall[\"tag\"].isin(consider_stations[\"datafile\"])]"
   ]
  },
  {
   "cell_type": "code",
   "execution_count": null,
   "metadata": {},
   "outputs": [
    {
     "data": {
      "text/html": [
       "<div>\n",
       "<style scoped>\n",
       "    .dataframe tbody tr th:only-of-type {\n",
       "        vertical-align: middle;\n",
       "    }\n",
       "\n",
       "    .dataframe tbody tr th {\n",
       "        vertical-align: top;\n",
       "    }\n",
       "\n",
       "    .dataframe thead th {\n",
       "        text-align: right;\n",
       "    }\n",
       "</style>\n",
       "<table border=\"1\" class=\"dataframe\">\n",
       "  <thead>\n",
       "    <tr style=\"text-align: right;\">\n",
       "      <th></th>\n",
       "      <th>datetime</th>\n",
       "      <th>station</th>\n",
       "      <th>rain_mm</th>\n",
       "      <th>year</th>\n",
       "      <th>tag</th>\n",
       "    </tr>\n",
       "  </thead>\n",
       "  <tbody>\n",
       "    <tr>\n",
       "      <th>0</th>\n",
       "      <td>2018-01-01 02:10:00</td>\n",
       "      <td>P01_001</td>\n",
       "      <td>0.27</td>\n",
       "      <td>2018</td>\n",
       "      <td>P01_001_2018</td>\n",
       "    </tr>\n",
       "    <tr>\n",
       "      <th>1</th>\n",
       "      <td>2018-01-01 02:20:00</td>\n",
       "      <td>P01_001</td>\n",
       "      <td>0.02</td>\n",
       "      <td>2018</td>\n",
       "      <td>P01_001_2018</td>\n",
       "    </tr>\n",
       "    <tr>\n",
       "      <th>2</th>\n",
       "      <td>2018-01-01 03:10:00</td>\n",
       "      <td>P01_001</td>\n",
       "      <td>0.48</td>\n",
       "      <td>2018</td>\n",
       "      <td>P01_001_2018</td>\n",
       "    </tr>\n",
       "    <tr>\n",
       "      <th>3</th>\n",
       "      <td>2018-01-01 07:40:00</td>\n",
       "      <td>P01_001</td>\n",
       "      <td>0.22</td>\n",
       "      <td>2018</td>\n",
       "      <td>P01_001_2018</td>\n",
       "    </tr>\n",
       "    <tr>\n",
       "      <th>4</th>\n",
       "      <td>2018-01-01 07:50:00</td>\n",
       "      <td>P01_001</td>\n",
       "      <td>0.09</td>\n",
       "      <td>2018</td>\n",
       "      <td>P01_001_2018</td>\n",
       "    </tr>\n",
       "  </tbody>\n",
       "</table>\n",
       "</div>"
      ],
      "text/plain": [
       "             datetime  station  rain_mm  year           tag\n",
       "0 2018-01-01 02:10:00  P01_001     0.27  2018  P01_001_2018\n",
       "1 2018-01-01 02:20:00  P01_001     0.02  2018  P01_001_2018\n",
       "2 2018-01-01 03:10:00  P01_001     0.48  2018  P01_001_2018\n",
       "3 2018-01-01 07:40:00  P01_001     0.22  2018  P01_001_2018\n",
       "4 2018-01-01 07:50:00  P01_001     0.09  2018  P01_001_2018"
      ]
     },
     "execution_count": null,
     "metadata": {},
     "output_type": "execute_result"
    }
   ],
   "source": [
    "sel_rainfall.head()"
   ]
  },
  {
   "cell_type": "markdown",
   "metadata": {},
   "source": [
    "**Run Model**  "
   ]
  },
  {
   "cell_type": "markdown",
   "metadata": {},
   "source": [
    "It needs to be decided which calculation functions are used to compute the ``rain energy depth`` and ``maximum intensity``. There are a few implemented functions available in the package for which we choose the ``rain_energy_verstraeten`` and ``maximum_intensity`` by default. The ``maximum_intensity`` function follows a slightly different approach to the original Matlab implementation. However, one can opt to use the `matlab_clone` method as well, which is a Python implementation mimicking the original Matlab one:"
   ]
  },
  {
   "cell_type": "code",
   "execution_count": null,
   "metadata": {},
   "outputs": [
    {
     "data": {
      "text/html": [
       "<div>\n",
       "<style scoped>\n",
       "    .dataframe tbody tr th:only-of-type {\n",
       "        vertical-align: middle;\n",
       "    }\n",
       "\n",
       "    .dataframe tbody tr th {\n",
       "        vertical-align: top;\n",
       "    }\n",
       "\n",
       "    .dataframe thead th {\n",
       "        text-align: right;\n",
       "    }\n",
       "</style>\n",
       "<table border=\"1\" class=\"dataframe\">\n",
       "  <thead>\n",
       "    <tr style=\"text-align: right;\">\n",
       "      <th></th>\n",
       "      <th>datetime</th>\n",
       "      <th>event_rain_cum</th>\n",
       "      <th>max_30min_intensity</th>\n",
       "      <th>event_energy</th>\n",
       "      <th>erosivity</th>\n",
       "      <th>all_event_rain_cum</th>\n",
       "      <th>erosivity_cum</th>\n",
       "      <th>station</th>\n",
       "      <th>year</th>\n",
       "      <th>tag</th>\n",
       "    </tr>\n",
       "    <tr>\n",
       "      <th>datetime</th>\n",
       "      <th></th>\n",
       "      <th></th>\n",
       "      <th></th>\n",
       "      <th></th>\n",
       "      <th></th>\n",
       "      <th></th>\n",
       "      <th></th>\n",
       "      <th></th>\n",
       "      <th></th>\n",
       "      <th></th>\n",
       "    </tr>\n",
       "  </thead>\n",
       "  <tbody>\n",
       "    <tr>\n",
       "      <th>2018-01-01 14:30:00</th>\n",
       "      <td>2018-01-01 14:30:00</td>\n",
       "      <td>11.29</td>\n",
       "      <td>3.28</td>\n",
       "      <td>1.530117</td>\n",
       "      <td>5.018784</td>\n",
       "      <td>1.08</td>\n",
       "      <td>5.018784</td>\n",
       "      <td>P01_001</td>\n",
       "      <td>2018</td>\n",
       "      <td>P01_001_2018</td>\n",
       "    </tr>\n",
       "    <tr>\n",
       "      <th>2018-01-02 16:30:00</th>\n",
       "      <td>2018-01-02 16:30:00</td>\n",
       "      <td>7.76</td>\n",
       "      <td>3.00</td>\n",
       "      <td>0.996561</td>\n",
       "      <td>2.989682</td>\n",
       "      <td>12.37</td>\n",
       "      <td>8.008465</td>\n",
       "      <td>P01_001</td>\n",
       "      <td>2018</td>\n",
       "      <td>P01_001_2018</td>\n",
       "    </tr>\n",
       "    <tr>\n",
       "      <th>2018-01-04 09:10:00</th>\n",
       "      <td>2018-01-04 09:10:00</td>\n",
       "      <td>2.34</td>\n",
       "      <td>1.34</td>\n",
       "      <td>0.242004</td>\n",
       "      <td>0.324285</td>\n",
       "      <td>20.13</td>\n",
       "      <td>8.332750</td>\n",
       "      <td>P01_001</td>\n",
       "      <td>2018</td>\n",
       "      <td>P01_001_2018</td>\n",
       "    </tr>\n",
       "    <tr>\n",
       "      <th>2018-01-05 02:20:00</th>\n",
       "      <td>2018-01-05 02:20:00</td>\n",
       "      <td>1.56</td>\n",
       "      <td>1.48</td>\n",
       "      <td>0.190453</td>\n",
       "      <td>0.281871</td>\n",
       "      <td>22.47</td>\n",
       "      <td>8.614621</td>\n",
       "      <td>P01_001</td>\n",
       "      <td>2018</td>\n",
       "      <td>P01_001_2018</td>\n",
       "    </tr>\n",
       "    <tr>\n",
       "      <th>2018-01-05 16:00:00</th>\n",
       "      <td>2018-01-05 16:00:00</td>\n",
       "      <td>3.33</td>\n",
       "      <td>6.16</td>\n",
       "      <td>0.681102</td>\n",
       "      <td>4.195587</td>\n",
       "      <td>24.03</td>\n",
       "      <td>12.810208</td>\n",
       "      <td>P01_001</td>\n",
       "      <td>2018</td>\n",
       "      <td>P01_001_2018</td>\n",
       "    </tr>\n",
       "  </tbody>\n",
       "</table>\n",
       "</div>"
      ],
      "text/plain": [
       "                               datetime  event_rain_cum  max_30min_intensity  \\\n",
       "datetime                                                                       \n",
       "2018-01-01 14:30:00 2018-01-01 14:30:00           11.29                 3.28   \n",
       "2018-01-02 16:30:00 2018-01-02 16:30:00            7.76                 3.00   \n",
       "2018-01-04 09:10:00 2018-01-04 09:10:00            2.34                 1.34   \n",
       "2018-01-05 02:20:00 2018-01-05 02:20:00            1.56                 1.48   \n",
       "2018-01-05 16:00:00 2018-01-05 16:00:00            3.33                 6.16   \n",
       "\n",
       "                     event_energy  erosivity  all_event_rain_cum  \\\n",
       "datetime                                                           \n",
       "2018-01-01 14:30:00      1.530117   5.018784                1.08   \n",
       "2018-01-02 16:30:00      0.996561   2.989682               12.37   \n",
       "2018-01-04 09:10:00      0.242004   0.324285               20.13   \n",
       "2018-01-05 02:20:00      0.190453   0.281871               22.47   \n",
       "2018-01-05 16:00:00      0.681102   4.195587               24.03   \n",
       "\n",
       "                     erosivity_cum  station  year           tag  \n",
       "datetime                                                         \n",
       "2018-01-01 14:30:00       5.018784  P01_001  2018  P01_001_2018  \n",
       "2018-01-02 16:30:00       8.008465  P01_001  2018  P01_001_2018  \n",
       "2018-01-04 09:10:00       8.332750  P01_001  2018  P01_001_2018  \n",
       "2018-01-05 02:20:00       8.614621  P01_001  2018  P01_001_2018  \n",
       "2018-01-05 16:00:00      12.810208  P01_001  2018  P01_001_2018  "
      ]
     },
     "execution_count": null,
     "metadata": {},
     "output_type": "execute_result"
    }
   ],
   "source": [
    "erosivity = compute_erosivity(all_rainfall, rain_energy_verstraeten2006, maximum_intensity_matlab_clone)\n",
    "erosivity.head()"
   ]
  },
  {
   "cell_type": "markdown",
   "metadata": {},
   "source": [
    "Users can choose to implement their own custom function and apply it, e.g.\n",
    "\n",
    "```python\n",
    "def rain_energy_per_unit_depth_brown_and_foster(rain):\n",
    "\"\"\"Calculate rain energy per unit depth according to Brown and Foster.\n",
    "\n",
    "Parameters\n",
    "----------\n",
    "rain : numpy.ndarray\n",
    "    Rain (mm)\n",
    "\n",
    "Returns\n",
    "-------\n",
    "energy : float\n",
    "    Energy per unit depth.\n",
    "\n",
    "Notes\n",
    "-----\n",
    "The rain energy per unit depth :math:`e_r` (:math:`\\\\text{J}.\\\\text{mm}^{-1}.\n",
    "\\\\text{m}^{-2}`) is defined by Brown and Foster (1987)  and Renard et al. (1997)\n",
    "\n",
    ".. math::\n",
    "\n",
    "    e_r = 29*(1-0.72*exp(-0.05*i_r)\n",
    "\n",
    "with\n",
    "\n",
    " - :math:`i_r` the rain intensity for every 10-min\n",
    "   increment (mm :math:`\\\\text{h}^{-1}` ).\n",
    "\n",
    "References\n",
    "----------\n",
    "Brown, L.C., Foster, G.R., 1987. \n",
    "Storm erosivity using idealized intensity distributions. \n",
    "Transactions of the ASAE 30, 0379–0386. https://doi.org/10.13031/2013.31957.\n",
    "\n",
    "Renard, K.G., Foster, G.R., Weesies, G.A., McCool, D.K., Yoder, D.C., 1997, \n",
    "Predicting soil erosion by water: a guide to conservation planning with the revised universal soil loss equation (RUSLE), \n",
    "Agriculture Handbook. U.S. Department of Agriculture, Washington. \n",
    "https://www.ars.usda.gov/ARSUserFiles/64080530/RUSLE/AH_703.pdf\n",
    "\n",
    "\"\"\"\n",
    "rain_energy = 29 * (1 - 0.72 * np.exp(-0.05*rain*6))*rain\n",
    "return rain_energy.sum()\n"
   ]
  },
  {
   "cell_type": "markdown",
   "metadata": {},
   "source": [
    "## Analysis\n",
    "\n",
    "If one does not have acces to the RMI data, the output erosivity from the computation with the full data set is provided in this repository as an alternative:"
   ]
  },
  {
   "cell_type": "code",
   "execution_count": null,
   "metadata": {},
   "outputs": [],
   "source": [
    "erosivity = pd.read_csv(\"data/erosivity_belgium.csv\", parse_dates=[0, 1], index_col=0)\n",
    "erosivity.head()"
   ]
  },
  {
   "cell_type": "markdown",
   "metadata": {},
   "source": [
    "**Ukkel**  \n",
    "\n",
    "Compute R-factor for specific periods for Ukkel (KMI_6447 and KMI_F3)."
   ]
  },
  {
   "cell_type": "code",
   "execution_count": null,
   "metadata": {},
   "outputs": [],
   "source": [
    "timeseries = [range(1898, 2003, 1),\n",
    "              range(2003, 2021, 1),\n",
    "              range(1898, 2021, 1),\n",
    "              range(1996, 2021, 1),\n",
    "              range(1991, 2021, 1),\n",
    "              range(1990, 2001, 1),\n",
    "              range(2000, 2021, 1)]\n",
    "\n",
    "for period in timeseries:\n",
    "    rfactor = get_rfactor_station_year(erosivity,[\"KMI_6447\",\"KMI_FS3\"], period)\n",
    "    print(f\"R-factor for period from {period[0]} till {period[-1]} is: {rfactor['erosivity_cum'].mean():.2f}\")"
   ]
  },
  {
   "cell_type": "markdown",
   "metadata": {},
   "source": [
    "**Make a figure for Ukkel**"
   ]
  },
  {
   "cell_type": "code",
   "execution_count": null,
   "metadata": {},
   "outputs": [],
   "source": [
    "rfactor_all= get_rfactor_station_year(erosivity, stations=[\"KMI_FS3\", \"KMI_6447\"]).sort_values(\"year\")"
   ]
  },
  {
   "cell_type": "code",
   "execution_count": null,
   "metadata": {},
   "outputs": [],
   "source": [
    "fig, ax = plt.subplots(figsize=(12, 7.5))\n",
    "\n",
    "rfactor_fs3 = get_rfactor_station_year(erosivity, [\"KMI_FS3\"])\n",
    "rfactor_fs3 = rfactor_fs3[~(rfactor_fs3[\"erosivity_cum\"].isnull())].sort_values(\"year\")\n",
    "\n",
    "rfactor_6447 = get_rfactor_station_year(erosivity, [\"KMI_6447\"])\n",
    "rfactor_6447 = rfactor_6447[~(rfactor_6447[\"erosivity_cum\"].isnull())].sort_values(\"year\")\n",
    "\n",
    "# add first line of KMI6447 to end of KMI FS3 in order to make a continuous timeseries on the plot\n",
    "rfactor_fs3 = pd.concat([rfactor_fs3,rfactor_6447.iloc[0]])\n",
    "\n",
    "ax.plot(rfactor_fs3[\"year\"], rfactor_fs3[\"erosivity_cum\"], label=\"KMI_FS3 (1898-2002)\")\n",
    "\n",
    "\n",
    "ax.plot(rfactor_6447[\"year\"], rfactor_6447[\"erosivity_cum\"], label=\"KMI_6447 (2003-2020)\")\n",
    "\n",
    "# rolling mean\n",
    "rfactor_all = get_rfactor_station_year(erosivity, stations=[\"KMI_FS3\", \"KMI_6447\"]).sort_values(\"year\")\n",
    "windows  = [10, 20, 30]\n",
    "for window in windows:\n",
    "    y = rfactor_all.rolling(window)[\"erosivity_cum\"].mean()\n",
    "    ax.plot(rfactor_all[\"year\"], y, ls=':', lw=3, \n",
    "            label=f\"Moving average ({window} year window)\")\n",
    "    \n",
    "\n",
    "ax.set_ylim([0,3500])\n",
    "ax.set_xlim([1890,2020])\n",
    "ax.tick_params(axis='both', which='major', labelsize=14)\n",
    "ax.set_xlabel(r'Year',fontsize=16)\n",
    "ax.set_ylabel(r'Yearly R-factor [MJ mm ha$^{-1}$ h$^{-1}$ year$^{-1}$]',fontsize=16)\n",
    "ax.legend(prop={'size':16})"
   ]
  },
  {
   "cell_type": "markdown",
   "metadata": {},
   "source": [
    "**All stations except for Ukkel**"
   ]
  },
  {
   "cell_type": "code",
   "execution_count": null,
   "metadata": {},
   "outputs": [],
   "source": [
    "stations_belgium_excl_ukkel = [station for station in stations[\"station\"] \n",
    "                               if station not in [\"KMI_6447\",\"KMI_FS3\", \"KMI1990_2002\", \"KMI2003_nu_v2\"]]\n",
    "years = range(1898, 2021, 1)\n",
    "years = [year for year in years if year in \n",
    "         erosivity[erosivity[\"station\"].isin(stations_belgium_excl_ukkel)][\"year\"].unique()]\n",
    "\n",
    "rfactor_non_ukkel = get_rfactor_station_year(erosivity, \n",
    "                                             stations=stations_belgium_excl_ukkel, \n",
    "                                             years=years)\n",
    "print(rfactor_non_ukkel[\"erosivity_cum\"].mean())\n",
    "len(rfactor_non_ukkel[\"station\"].unique())"
   ]
  },
  {
   "cell_type": "markdown",
   "metadata": {},
   "source": [
    "**All stations flanders**"
   ]
  },
  {
   "cell_type": "code",
   "execution_count": null,
   "metadata": {},
   "outputs": [],
   "source": [
    "stations_flanders = [station for station in stations[\"station\"] \n",
    "                     if station not in  [\"KMI_6447\", \"KMI_FS3\", \"KMI_6455\", \"KMI_6459\",\n",
    "                                         \"KMI_6472\", \"KMI_6494\", \"KMI_6484\", \"KMI1990_2002\", \"KMI2003_nu_v2\"]]\n",
    "years = range(1898, 2021, 1)\n",
    "years = [year for year in years if year in \n",
    "         erosivity[erosivity[\"station\"].isin(stations_flanders)][\"year\"].unique()]\n",
    "\n",
    "rfactor_flanders = get_rfactor_station_year(erosivity,stations_flanders, years)\n",
    "print(rfactor_flanders[\"erosivity_cum\"].mean())\n",
    "len(rfactor_flanders[\"station\"].unique())"
   ]
  },
  {
   "cell_type": "markdown",
   "metadata": {},
   "source": [
    "**Plot the distribution of all R-values for Belgium, excluding the data from Ukkel**"
   ]
  },
  {
   "cell_type": "code",
   "execution_count": null,
   "metadata": {},
   "outputs": [],
   "source": [
    "years = [year for year in range(1991, 2021) if year in \n",
    "         erosivity[erosivity[\"station\"].isin(stations_belgium_excl_ukkel)][\"year\"].unique()]\n",
    "\n",
    "rfactor_non_ukkel = get_rfactor_station_year(erosivity, stations_belgium_excl_ukkel, years)\n",
    "\n",
    "fig, ax = plt.subplots()\n",
    "ax.hist(rfactor_non_ukkel[\"erosivity_cum\"], bins=20, color=[0.8]*3,\n",
    "        label=r\"Jaarlijkse waarden voor alle 55 stations in België\")\n",
    "ax.plot([1239, 1239], [0, 120], color=[0.2]*3, ls=\":\", label=\"Ukkel (30-jaar referentie periode)\")\n",
    "ax.set_ylabel(r\"#\")\n",
    "ax.set_xlabel(r\"R-waarde [MJ mm ha$^{-1}$ h$^{-1}$ jaar$^{-1}$]\")\n",
    "ax.set_ylim([0,180])\n",
    "ax.legend()"
   ]
  },
  {
   "cell_type": "markdown",
   "metadata": {},
   "source": [
    "**All stations of the VMM (Flanders)**"
   ]
  },
  {
   "cell_type": "code",
   "execution_count": null,
   "metadata": {},
   "outputs": [],
   "source": [
    "stations_vmm = [station for station in stations[\"station\"] if \"KMI\" not in station]\n",
    "\n",
    "rfactor_vmm = get_rfactor_station_year(erosivity, stations_vmm)\n",
    "\n",
    "print(rfactor_vmm[\"erosivity_cum\"].mean())\n",
    "len(rfactor_vmm[\"station\"].unique())"
   ]
  },
  {
   "cell_type": "markdown",
   "metadata": {},
   "source": [
    "**Compute values per year over all stations**"
   ]
  },
  {
   "cell_type": "code",
   "execution_count": null,
   "metadata": {},
   "outputs": [],
   "source": [
    "(get_rfactor_station_year(erosivity)\n",
    " .groupby(\"station\")\n",
    " .aggregate(\n",
    "    {\"erosivity_cum\":[np.mean, np.std],\n",
    "     \"year\": \"count\"})\n",
    " .sort_values(('year', 'count'), ascending=False)\n",
    " .reset_index()\n",
    ")"
   ]
  },
  {
   "cell_type": "markdown",
   "metadata": {},
   "source": [
    "## Analysis (monthly resolution)\n",
    "Get the EI30-values for 2018 based on two Ukkel station (\"KMI_6447\",\"KMI_FS3\")  "
   ]
  },
  {
   "cell_type": "code",
   "execution_count": null,
   "metadata": {},
   "outputs": [],
   "source": [
    "erosivity_monthly = (erosivity.loc[erosivity[\"station\"].isin([\"KMI_6447\", \"KMI_FS3\"]), \"erosivity\"]\n",
    "                     .resample(\"M\")\n",
    "                     .sum()\n",
    "                     .to_frame())\n",
    "erosivity_monthly[\"month\"] = erosivity_monthly.index.month\n",
    "erosivity_monthly.head()"
   ]
  },
  {
   "cell_type": "markdown",
   "metadata": {},
   "source": [
    "Get mean and interquartile range of monthly R-factor"
   ]
  },
  {
   "cell_type": "code",
   "execution_count": null,
   "metadata": {},
   "outputs": [],
   "source": [
    "em = (erosivity_monthly\n",
    "      .groupby(\"month\")\n",
    "      .aggregate({\n",
    "          \"erosivity\":[np.mean, \n",
    "                       lambda x: np.percentile(x, 25), \n",
    "                       lambda x: np.percentile(x,75)]\n",
    "      }))"
   ]
  },
  {
   "cell_type": "code",
   "execution_count": null,
   "metadata": {},
   "outputs": [],
   "source": [
    "em[\"mean\"] = em[\"erosivity\"][\"mean\"]\n",
    "em[\"l_e\"] = em[\"erosivity\"][\"mean\"] - em[\"erosivity\"][\"<lambda_0>\"]\n",
    "em[\"u_e\"] = em[\"erosivity\"][\"<lambda_1>\"] - em[\"erosivity\"][\"mean\"]"
   ]
  },
  {
   "cell_type": "markdown",
   "metadata": {},
   "source": [
    "**Plot**"
   ]
  },
  {
   "cell_type": "code",
   "execution_count": null,
   "metadata": {},
   "outputs": [],
   "source": [
    "fig = plt.figure(figsize=(8, 4))\n",
    "\n",
    "x = np.arange(len(em))\n",
    "y_gv = [26, 20, 24, 27, 70, 77, 144, 102, 68, 50, 37, 32]\n",
    "y_gv2 = [35, 27, 32, 36, 86, 96, 177, 135, 89, 66, 48, 43]\n",
    "plt.bar(x-0.3,em[\"mean\"],yerr=em[[\"l_e\",\"u_e\"]].T.values,color=[0.80]*3,width=0.3,label=\"Ukkel (1898-2020))\")\n",
    "plt.bar(x,y_gv,width=0.3,color=[0.5]*3,label=\"Verstraeten $\\it{et. al}$ (2001)\")\n",
    "plt.bar(x+0.3,y_gv2,width=0.3,color=[0.2]*3,label=\"Verstraeten $\\it{et. al}$ (2006)\")\n",
    "plt.ylabel(\"R-value\")\n",
    "ax = fig.axes\n",
    "plt.xticks(x,[\"Januari\",\"Februari\",\"Maart\",\"April\",\"Mei\",\"Juni\",\"Juli\",\"Augustus\",\"September\",\"Oktober\",\"November\",\"December\"],rotation=45)\n",
    "plt.legend(loc=2,facecolor =\"white\")\n",
    "plt.ylabel(r\"R-waarde [MJ mm ha$^{-1}$ h$^{-1}$ maand$^{-1}$]\");"
   ]
  },
  {
   "cell_type": "markdown",
   "metadata": {},
   "source": [
    "## Additional: monthly analysis (detail)\n",
    "\n",
    "**Evolution monthly R-value**\n",
    "\n",
    "Generate plot to analyse evolution of montly R over the years"
   ]
  },
  {
   "cell_type": "code",
   "execution_count": null,
   "metadata": {},
   "outputs": [],
   "source": [
    "def subplot_montlhy_R(df,ax,ind1,ind2):\n",
    "    \n",
    "    if (ind1==0) & (ind2==2):\n",
    "        ax.plot(df[\"year\"],df[\"erosivity\"],color=[0.1]*3,alpha=0.5,label=\"EI30\")\n",
    "    else:\n",
    "        ax.plot(df[\"year\"],df[\"erosivity\"],color=[0.1]*3,alpha=0.5)\n",
    "    ax.fill_between([1998,2021], 0,500,facecolor='grey', alpha=0.3)    \n",
    "    # rolling mean\n",
    "    scales  = [10,20,30]\n",
    "    for scale in scales:\n",
    "        y = df[\"erosivity\"].rolling(scale).mean()\n",
    "        if scale==10:\n",
    "            y_max=np.nanmax(y.values)*1.1\n",
    "        x = y.index.year\n",
    "        ax.plot(x,y,lw=2,label=f'voortschrijdend gemiddelde ({scale} jaar)')\n",
    "    if ind1!=3:\n",
    "        ax.set_xticks([])\n",
    "    else:\n",
    "        if ind2==1:\n",
    "            ax.set_xlabel(r'Jaar (-)',fontsize=16)\n",
    "    ax.set_ylim([0,500])\n",
    "    ax.set_title(name)\n",
    "    ax.tick_params(axis='y', which='major', labelsize=12,rotation=90)\n",
    "    ax.tick_params(axis='x', which='major', labelsize=12)\n",
    "    if ind2!=0:\n",
    "        ax.set_yticklabels([])\n",
    "    else:\n",
    "        if ind1==2:\n",
    "            ax.set_ylabel('\\t\\t\\t Maandelijkse R [MJ mm ha$^{-1}$ h$^{-1}$ maand$^{-1}$]',fontsize=16)\n",
    "    if (ind1==0) & (ind2==2):\n",
    "        ax.legend(ncol=2)\n",
    "        \n",
    "fig,ax = plt.subplots(4,3,figsize=[9,9])\n",
    "months = [\"Januari\",\"Februari\",\"Maart\",\"April\",\"Mei\",\"Juni\",\"Juli\",\"Augustus\",\"September\",\"Oktober\",\"November\",\"December\"]\n",
    "erosivity_monthly[\"year\"] = erosivity_monthly.index.year\n",
    "\n",
    "for month,name in enumerate(months):\n",
    "    ind1=int(np.floor((month)/3))\n",
    "    ind2=np.mod(month,3)\n",
    "    df_plot = erosivity_monthly.loc[erosivity_monthly[\"month\"]==month+1]\n",
    "    df_plot  = df_plot [~np.isnan(df_plot[\"erosivity\"])].sort_values(\"year\")\n",
    "    subplot_montlhy_R(df_plot,ax[ind1,ind2],ind1,ind2)"
   ]
  }
 ],
 "metadata": {
  "keep_output": true,
  "kernelspec": {
   "display_name": "rfactor",
   "language": "python",
   "name": "rfactor"
  },
  "language_info": {
   "codemirror_mode": {
    "name": "ipython",
    "version": 3
   },
   "file_extension": ".py",
   "mimetype": "text/x-python",
   "name": "python",
   "nbconvert_exporter": "python",
   "pygments_lexer": "ipython3",
   "version": "3.9.20"
  },
  "toc": {
   "base_numbering": 1,
   "nav_menu": {},
   "number_sections": true,
   "sideBar": true,
   "skip_h1_title": false,
   "title_cell": "Table of Contents",
   "title_sidebar": "Contents",
   "toc_cell": false,
   "toc_position": {},
   "toc_section_display": true,
   "toc_window_display": false
  },
  "varInspector": {
   "cols": {
    "lenName": 16,
    "lenType": 16,
    "lenVar": 40
   },
   "kernels_config": {
    "python": {
     "delete_cmd_postfix": "",
     "delete_cmd_prefix": "del ",
     "library": "var_list.py",
     "varRefreshCmd": "print(var_dic_list())"
    },
    "r": {
     "delete_cmd_postfix": ") ",
     "delete_cmd_prefix": "rm(",
     "library": "var_list.r",
     "varRefreshCmd": "cat(var_dic_list()) "
    }
   },
   "types_to_exclude": [
    "module",
    "function",
    "builtin_function_or_method",
    "instance",
    "_Feature"
   ],
   "window_display": false
  }
 },
 "nbformat": 4,
 "nbformat_minor": 4
}
